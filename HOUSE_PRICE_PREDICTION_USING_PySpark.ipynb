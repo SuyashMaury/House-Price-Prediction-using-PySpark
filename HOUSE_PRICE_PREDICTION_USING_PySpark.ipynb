{
  "cells": [
    {
      "cell_type": "markdown",
      "metadata": {
        "id": "V2NaaDHlfA18"
      },
      "source": [
        "# **Regression Using Pyspark**"
      ]
    },
    {
      "cell_type": "markdown",
      "metadata": {
        "id": "ukf7qBbEgG18"
      },
      "source": [
        "## **HOUSE PRICE PREDICTION**"
      ]
    },
    {
      "cell_type": "markdown",
      "metadata": {
        "id": "JE_deAI5gG4i"
      },
      "source": [
        "There are variables, the description are:\n",
        "\n",
        "Data fields Here's a brief version of what you'll find in the data description file.\n",
        "\n",
        "* SalePrice - the property's sale price in dollars. This is the target variable\n",
        "  that you're trying to predict.\n",
        "* MSZoning: The general zoning classification\n",
        "* MSSubClass: The building class\n",
        "* LotFrontage: Linear feet of street connected to property            \n",
        "* LotArea: Lot size in square feet\n",
        "* Street: Type of road access\n",
        "* Alley: Type of alley access\n",
        "* LotShape: General shape of property\n",
        "* LandContour: Flatness of the property\n",
        "* Utilities: Type of utilities available\n",
        "* LotConfig: Lot configuration\n",
        "* LandSlope: Slope of property\n",
        "* Neighborhood: Physical locations within Ames city limits\n",
        "* Condition1: Proximity to main road or railroad\n",
        "* Condition2: Proximity to main road or railroad (if a second is present)\n",
        "* BldgType: Type of dwelling\n",
        "* HouseStyle: Style of dwelling\n",
        "* OverallQual: Overall material and finish quality\n",
        "* OverallCond: Overall condition rating\n",
        "* YearBuilt: Original construction date\n",
        "* YearRemodAdd: Remodel date\n",
        "* RoofStyle: Type of roof\n",
        "* RoofMatl: Roof material\n",
        "* Exterior1st: Exterior covering on house\n",
        "* Exterior2nd: Exterior covering on house (if more than one material)\n",
        "* MasVnrType: Masonry veneer type\n",
        "* MasVnrArea: Masonry veneer area in square feet\n",
        "* ExterQual: Exterior material quality\n",
        "* ExterCond: Present condition of the material on the exterior\n",
        "* Foundation: Type of foundation\n",
        "* BsmtQual: Height of the basement\n",
        "* BsmtCond: General condition of the basement\n",
        "* BsmtExposure: Walkout or garden level basement walls\n",
        "* BsmtFinType1: Quality of basement finished area\n",
        "* BsmtFinSF1: Type 1 finished square feet\n",
        "* BsmtFinType2: Quality of second finished area (if present)\n",
        "* BsmtFinSF2: Type 2 finished square feet\n",
        "* BsmtUnfSF: Unfinished square feet of basement area\n",
        "* TotalBsmtSF: Total square feet of basement area\n",
        "* Heating: Type of heating\n",
        "* HeatingQC: Heating quality and condition\n",
        "* CentralAir: Central air conditioning\n",
        "* Electrical: Electrical system\n",
        "* 1stFlrSF: First Floor square feet\n",
        "* 2ndFlrSF: Second floor square feet\n",
        "* LowQualFinSF: Low quality finished square feet (all floors)\n",
        "* GrLivArea: Above grade (ground) living area square feet\n",
        "* BsmtFullBath: Basement full bathrooms\n",
        "* BsmtHalfBath: Basement half bathrooms\n",
        "* FullBath: Full bathrooms above grade\n",
        "* HalfBath: Half baths above grade\n",
        "* Bedroom: Number of bedrooms above basement level\n",
        "* Kitchen: Number of kitchens\n",
        "* KitchenQual: Kitchen quality\n",
        "* TotRmsAbvGrd: Total rooms above grade (does not include bathrooms)\n",
        "* Functional: Home functionality rating\n",
        "* Fireplaces: Number of fireplaces\n",
        "* FireplaceQu: Fireplace quality\n",
        "* GarageType: Garage location\n",
        "* GarageYrBlt: Year garage was built\n",
        "* GarageFinish: Interior finish of the garage\n",
        "* GarageCars: Size of garage in car capacity\n",
        "* GarageArea: Size of garage in square feet\n",
        "* GarageQual: Garage quality\n",
        "* GarageCond: Garage condition\n",
        "* PavedDrive: Paved driveway\n",
        "* WoodDeckSF: Wood deck area in square feet\n",
        "* OpenPorchSF: Open porch area in square feet\n",
        "* EnclosedPorch: Enclosed porch area in square feet\n",
        "* 3SsnPorch: Three season porch area in square feet\n",
        "* ScreenPorch: Screen porch area in square feet\n",
        "* PoolArea: Pool area in square feet\n",
        "* PoolQC: Pool quality\n",
        "* Fence: Fence quality\n",
        "* MiscFeature: Miscellaneous feature not covered in other categories\n",
        "* MiscVal: $Value of miscellaneous feature\n",
        "* MoSold: Month Sold\n",
        "* YrSold: Year Sold\n",
        "* SaleType: Type of sale\n",
        "* SaleCondition: Condition of sale\n",
        "\n",
        "\n"
      ]
    },
    {
      "cell_type": "markdown",
      "metadata": {
        "id": "tooM40oVgHB_"
      },
      "source": [
        "### **Pyspark Initializasing**"
      ]
    },
    {
      "cell_type": "code",
      "execution_count": null,
      "metadata": {
        "colab": {
          "base_uri": "https://localhost:8080/"
        },
        "id": "alcxkUy0J3IQ",
        "outputId": "b9219da5-68cc-438a-91f7-17758ca3b00e"
      },
      "outputs": [
        {
          "output_type": "stream",
          "name": "stdout",
          "text": [
            "\u001b[2K     \u001b[90m━━━━━━━━━━━━━━━━━━━━━━━━━━━━━━━━━━━━━━━━\u001b[0m \u001b[32m316.9/316.9 MB\u001b[0m \u001b[31m4.7 MB/s\u001b[0m eta \u001b[36m0:00:00\u001b[0m\n",
            "\u001b[?25h  Preparing metadata (setup.py) ... \u001b[?25l\u001b[?25hdone\n",
            "  Building wheel for pyspark (setup.py) ... \u001b[?25l\u001b[?25hdone\n"
          ]
        }
      ],
      "source": [
        "!pip3 -q install pyspark\n",
        "from pyspark.sql import SparkSession\n",
        "spark = SparkSession.builder.appName('HousePricePrediction').master(\"local[*]\").getOrCreate()\n",
        "sc = spark.sparkContext"
      ]
    },
    {
      "cell_type": "markdown",
      "metadata": {
        "id": "Ky_W6rrkgEkX"
      },
      "source": [
        "###  **Load Libraries**"
      ]
    },
    {
      "cell_type": "code",
      "execution_count": null,
      "metadata": {
        "id": "AF4Ary3FKhRI"
      },
      "outputs": [],
      "source": [
        "# Data Frame spark profiling\n",
        "from pyspark.sql.types import IntegerType, StringType, DoubleType, ShortType, DecimalType\n",
        "import pyspark.sql.functions as func\n",
        "from pyspark.sql.functions import isnull\n",
        "from pyspark.sql.functions import isnan, when, count, col\n",
        "from pyspark.sql.functions import mean\n",
        "from pyspark.sql.functions import round\n",
        "from pyspark.sql.types import Row\n",
        "import matplotlib.pyplot as plt\n",
        "from pyspark.sql.functions import udf\n",
        "\n",
        "# Modeling + Evaluation\n",
        "from pyspark.ml.feature import VectorAssembler, VectorIndexer, OneHotEncoder, StringIndexer\n",
        "from pyspark.sql.functions import when\n",
        "from pyspark.sql import functions as F\n",
        "from pyspark.sql.functions import avg\n",
        "from pyspark.ml import Pipeline\n",
        "from pyspark.ml.regression import LinearRegression\n",
        "from pyspark.ml.regression import DecisionTreeRegressor, RandomForestRegressor, GBTRegressor\n",
        "from pyspark.ml.feature import VectorIndexer\n",
        "from pyspark.ml.evaluation import RegressionEvaluator\n",
        "from pyspark.ml.tuning import CrossValidator, ParamGridBuilder\n",
        "from sklearn.metrics import log_loss\n",
        "from pyspark.sql.functions import corr\n",
        "import pyspark.sql.functions as fn\n",
        "from pyspark.sql.functions import rank,sum,col\n",
        "from pyspark.sql import Window\n",
        "\n",
        "window = Window.rowsBetween(Window.unboundedPreceding,Window.unboundedFollowing)"
      ]
    },
    {
      "cell_type": "markdown",
      "metadata": {
        "id": "sGZkgAWGpDJd"
      },
      "source": [
        "### **Load Data to Spark DataFrame**"
      ]
    },
    {
      "cell_type": "code",
      "execution_count": null,
      "metadata": {
        "id": "upnqe4kZonPC"
      },
      "outputs": [],
      "source": [
        "!wget -O data.csv -q https://raw.githubusercontent.com/SuyashMaury/House-Price-Prediction-using-PySpark/main/data.csv\n"
      ]
    },
    {
      "cell_type": "code",
      "execution_count": null,
      "metadata": {
        "colab": {
          "base_uri": "https://localhost:8080/"
        },
        "id": "lGO-BF1OonSL",
        "outputId": "2da91eeb-d29c-4302-b641-70d8a9f16c13"
      },
      "outputs": [
        {
          "output_type": "stream",
          "name": "stdout",
          "text": [
            "+---+----------+--------+-----------+-------+------+-----+--------+-----------+---------+---------+---------+------------+----------+----------+--------+----------+-----------+-----------+---------+------------+---------+--------+-----------+-----------+----------+----------+---------+---------+----------+--------+--------+------------+------------+----------+------------+----------+---------+-----------+-------+---------+----------+----------+--------+--------+------------+---------+------------+------------+--------+--------+------------+------------+-----------+------------+----------+----------+-----------+----------+-----------+------------+----------+----------+----------+----------+----------+----------+-----------+-------------+---------+-----------+--------+------+-----+-----------+-------+------+------+--------+-------------+---------+\n",
            "| Id|MSSubClass|MSZoning|LotFrontage|LotArea|Street|Alley|LotShape|LandContour|Utilities|LotConfig|LandSlope|Neighborhood|Condition1|Condition2|BldgType|HouseStyle|OverallQual|OverallCond|YearBuilt|YearRemodAdd|RoofStyle|RoofMatl|Exterior1st|Exterior2nd|MasVnrType|MasVnrArea|ExterQual|ExterCond|Foundation|BsmtQual|BsmtCond|BsmtExposure|BsmtFinType1|BsmtFinSF1|BsmtFinType2|BsmtFinSF2|BsmtUnfSF|TotalBsmtSF|Heating|HeatingQC|CentralAir|Electrical|1stFlrSF|2ndFlrSF|LowQualFinSF|GrLivArea|BsmtFullBath|BsmtHalfBath|FullBath|HalfBath|BedroomAbvGr|KitchenAbvGr|KitchenQual|TotRmsAbvGrd|Functional|Fireplaces|FireplaceQu|GarageType|GarageYrBlt|GarageFinish|GarageCars|GarageArea|GarageQual|GarageCond|PavedDrive|WoodDeckSF|OpenPorchSF|EnclosedPorch|3SsnPorch|ScreenPorch|PoolArea|PoolQC|Fence|MiscFeature|MiscVal|MoSold|YrSold|SaleType|SaleCondition|SalePrice|\n",
            "+---+----------+--------+-----------+-------+------+-----+--------+-----------+---------+---------+---------+------------+----------+----------+--------+----------+-----------+-----------+---------+------------+---------+--------+-----------+-----------+----------+----------+---------+---------+----------+--------+--------+------------+------------+----------+------------+----------+---------+-----------+-------+---------+----------+----------+--------+--------+------------+---------+------------+------------+--------+--------+------------+------------+-----------+------------+----------+----------+-----------+----------+-----------+------------+----------+----------+----------+----------+----------+----------+-----------+-------------+---------+-----------+--------+------+-----+-----------+-------+------+------+--------+-------------+---------+\n",
            "|  1|        60|      RL|         65|   8450|  Pave|   NA|     Reg|        Lvl|   AllPub|   Inside|      Gtl|     CollgCr|      Norm|      Norm|    1Fam|    2Story|          7|          5|     2003|        2003|    Gable| CompShg|    VinylSd|    VinylSd|   BrkFace|       196|       Gd|       TA|     PConc|      Gd|      TA|          No|         GLQ|       706|         Unf|         0|      150|        856|   GasA|       Ex|         Y|     SBrkr|     856|     854|           0|     1710|           1|           0|       2|       1|           3|           1|         Gd|           8|       Typ|         0|         NA|    Attchd|       2003|         RFn|         2|       548|        TA|        TA|         Y|         0|         61|            0|        0|          0|       0|    NA|   NA|         NA|      0|     2|  2008|      WD|       Normal|   208500|\n",
            "|  2|        20|      RL|         80|   9600|  Pave|   NA|     Reg|        Lvl|   AllPub|      FR2|      Gtl|     Veenker|     Feedr|      Norm|    1Fam|    1Story|          6|          8|     1976|        1976|    Gable| CompShg|    MetalSd|    MetalSd|      None|         0|       TA|       TA|    CBlock|      Gd|      TA|          Gd|         ALQ|       978|         Unf|         0|      284|       1262|   GasA|       Ex|         Y|     SBrkr|    1262|       0|           0|     1262|           0|           1|       2|       0|           3|           1|         TA|           6|       Typ|         1|         TA|    Attchd|       1976|         RFn|         2|       460|        TA|        TA|         Y|       298|          0|            0|        0|          0|       0|    NA|   NA|         NA|      0|     5|  2007|      WD|       Normal|   181500|\n",
            "|  3|        60|      RL|         68|  11250|  Pave|   NA|     IR1|        Lvl|   AllPub|   Inside|      Gtl|     CollgCr|      Norm|      Norm|    1Fam|    2Story|          7|          5|     2001|        2002|    Gable| CompShg|    VinylSd|    VinylSd|   BrkFace|       162|       Gd|       TA|     PConc|      Gd|      TA|          Mn|         GLQ|       486|         Unf|         0|      434|        920|   GasA|       Ex|         Y|     SBrkr|     920|     866|           0|     1786|           1|           0|       2|       1|           3|           1|         Gd|           6|       Typ|         1|         TA|    Attchd|       2001|         RFn|         2|       608|        TA|        TA|         Y|         0|         42|            0|        0|          0|       0|    NA|   NA|         NA|      0|     9|  2008|      WD|       Normal|   223500|\n",
            "|  4|        70|      RL|         60|   9550|  Pave|   NA|     IR1|        Lvl|   AllPub|   Corner|      Gtl|     Crawfor|      Norm|      Norm|    1Fam|    2Story|          7|          5|     1915|        1970|    Gable| CompShg|    Wd Sdng|    Wd Shng|      None|         0|       TA|       TA|    BrkTil|      TA|      Gd|          No|         ALQ|       216|         Unf|         0|      540|        756|   GasA|       Gd|         Y|     SBrkr|     961|     756|           0|     1717|           1|           0|       1|       0|           3|           1|         Gd|           7|       Typ|         1|         Gd|    Detchd|       1998|         Unf|         3|       642|        TA|        TA|         Y|         0|         35|          272|        0|          0|       0|    NA|   NA|         NA|      0|     2|  2006|      WD|      Abnorml|   140000|\n",
            "|  5|        60|      RL|         84|  14260|  Pave|   NA|     IR1|        Lvl|   AllPub|      FR2|      Gtl|     NoRidge|      Norm|      Norm|    1Fam|    2Story|          8|          5|     2000|        2000|    Gable| CompShg|    VinylSd|    VinylSd|   BrkFace|       350|       Gd|       TA|     PConc|      Gd|      TA|          Av|         GLQ|       655|         Unf|         0|      490|       1145|   GasA|       Ex|         Y|     SBrkr|    1145|    1053|           0|     2198|           1|           0|       2|       1|           4|           1|         Gd|           9|       Typ|         1|         TA|    Attchd|       2000|         RFn|         3|       836|        TA|        TA|         Y|       192|         84|            0|        0|          0|       0|    NA|   NA|         NA|      0|    12|  2008|      WD|       Normal|   250000|\n",
            "+---+----------+--------+-----------+-------+------+-----+--------+-----------+---------+---------+---------+------------+----------+----------+--------+----------+-----------+-----------+---------+------------+---------+--------+-----------+-----------+----------+----------+---------+---------+----------+--------+--------+------------+------------+----------+------------+----------+---------+-----------+-------+---------+----------+----------+--------+--------+------------+---------+------------+------------+--------+--------+------------+------------+-----------+------------+----------+----------+-----------+----------+-----------+------------+----------+----------+----------+----------+----------+----------+-----------+-------------+---------+-----------+--------+------+-----+-----------+-------+------+------+--------+-------------+---------+\n",
            "only showing top 5 rows\n",
            "\n"
          ]
        }
      ],
      "source": [
        "data= spark.read.csv('data.csv', inferSchema=True,header=True)\n",
        "data.show(5)\n"
      ]
    },
    {
      "cell_type": "markdown",
      "metadata": {
        "id": "CbnR6TjHpSYk"
      },
      "source": [
        "### Check Data"
      ]
    },
    {
      "cell_type": "code",
      "execution_count": null,
      "metadata": {
        "colab": {
          "base_uri": "https://localhost:8080/"
        },
        "id": "fze-5-nsonVl",
        "outputId": "00368e0b-73b1-43be-c8c9-71f7f0fb88be"
      },
      "outputs": [
        {
          "output_type": "execute_result",
          "data": {
            "text/plain": [
              "pyspark.sql.dataframe.DataFrame"
            ]
          },
          "metadata": {},
          "execution_count": 6
        }
      ],
      "source": [
        "type(data)"
      ]
    },
    {
      "cell_type": "code",
      "execution_count": null,
      "metadata": {
        "colab": {
          "base_uri": "https://localhost:8080/"
        },
        "id": "LhxyPRRpKhTY",
        "outputId": "926b66ca-3b1c-4224-dcd5-d1d0aa113f5a"
      },
      "outputs": [
        {
          "output_type": "stream",
          "name": "stdout",
          "text": [
            "root\n",
            " |-- Id: integer (nullable = true)\n",
            " |-- MSSubClass: integer (nullable = true)\n",
            " |-- MSZoning: string (nullable = true)\n",
            " |-- LotFrontage: string (nullable = true)\n",
            " |-- LotArea: integer (nullable = true)\n",
            " |-- Street: string (nullable = true)\n",
            " |-- Alley: string (nullable = true)\n",
            " |-- LotShape: string (nullable = true)\n",
            " |-- LandContour: string (nullable = true)\n",
            " |-- Utilities: string (nullable = true)\n",
            " |-- LotConfig: string (nullable = true)\n",
            " |-- LandSlope: string (nullable = true)\n",
            " |-- Neighborhood: string (nullable = true)\n",
            " |-- Condition1: string (nullable = true)\n",
            " |-- Condition2: string (nullable = true)\n",
            " |-- BldgType: string (nullable = true)\n",
            " |-- HouseStyle: string (nullable = true)\n",
            " |-- OverallQual: integer (nullable = true)\n",
            " |-- OverallCond: integer (nullable = true)\n",
            " |-- YearBuilt: integer (nullable = true)\n",
            " |-- YearRemodAdd: integer (nullable = true)\n",
            " |-- RoofStyle: string (nullable = true)\n",
            " |-- RoofMatl: string (nullable = true)\n",
            " |-- Exterior1st: string (nullable = true)\n",
            " |-- Exterior2nd: string (nullable = true)\n",
            " |-- MasVnrType: string (nullable = true)\n",
            " |-- MasVnrArea: string (nullable = true)\n",
            " |-- ExterQual: string (nullable = true)\n",
            " |-- ExterCond: string (nullable = true)\n",
            " |-- Foundation: string (nullable = true)\n",
            " |-- BsmtQual: string (nullable = true)\n",
            " |-- BsmtCond: string (nullable = true)\n",
            " |-- BsmtExposure: string (nullable = true)\n",
            " |-- BsmtFinType1: string (nullable = true)\n",
            " |-- BsmtFinSF1: integer (nullable = true)\n",
            " |-- BsmtFinType2: string (nullable = true)\n",
            " |-- BsmtFinSF2: integer (nullable = true)\n",
            " |-- BsmtUnfSF: integer (nullable = true)\n",
            " |-- TotalBsmtSF: integer (nullable = true)\n",
            " |-- Heating: string (nullable = true)\n",
            " |-- HeatingQC: string (nullable = true)\n",
            " |-- CentralAir: string (nullable = true)\n",
            " |-- Electrical: string (nullable = true)\n",
            " |-- 1stFlrSF: integer (nullable = true)\n",
            " |-- 2ndFlrSF: integer (nullable = true)\n",
            " |-- LowQualFinSF: integer (nullable = true)\n",
            " |-- GrLivArea: integer (nullable = true)\n",
            " |-- BsmtFullBath: integer (nullable = true)\n",
            " |-- BsmtHalfBath: integer (nullable = true)\n",
            " |-- FullBath: integer (nullable = true)\n",
            " |-- HalfBath: integer (nullable = true)\n",
            " |-- BedroomAbvGr: integer (nullable = true)\n",
            " |-- KitchenAbvGr: integer (nullable = true)\n",
            " |-- KitchenQual: string (nullable = true)\n",
            " |-- TotRmsAbvGrd: integer (nullable = true)\n",
            " |-- Functional: string (nullable = true)\n",
            " |-- Fireplaces: integer (nullable = true)\n",
            " |-- FireplaceQu: string (nullable = true)\n",
            " |-- GarageType: string (nullable = true)\n",
            " |-- GarageYrBlt: string (nullable = true)\n",
            " |-- GarageFinish: string (nullable = true)\n",
            " |-- GarageCars: integer (nullable = true)\n",
            " |-- GarageArea: integer (nullable = true)\n",
            " |-- GarageQual: string (nullable = true)\n",
            " |-- GarageCond: string (nullable = true)\n",
            " |-- PavedDrive: string (nullable = true)\n",
            " |-- WoodDeckSF: integer (nullable = true)\n",
            " |-- OpenPorchSF: integer (nullable = true)\n",
            " |-- EnclosedPorch: integer (nullable = true)\n",
            " |-- 3SsnPorch: integer (nullable = true)\n",
            " |-- ScreenPorch: integer (nullable = true)\n",
            " |-- PoolArea: integer (nullable = true)\n",
            " |-- PoolQC: string (nullable = true)\n",
            " |-- Fence: string (nullable = true)\n",
            " |-- MiscFeature: string (nullable = true)\n",
            " |-- MiscVal: integer (nullable = true)\n",
            " |-- MoSold: integer (nullable = true)\n",
            " |-- YrSold: integer (nullable = true)\n",
            " |-- SaleType: string (nullable = true)\n",
            " |-- SaleCondition: string (nullable = true)\n",
            " |-- SalePrice: integer (nullable = true)\n",
            "\n"
          ]
        },
        {
          "output_type": "execute_result",
          "data": {
            "text/plain": [
              "(81, None)"
            ]
          },
          "metadata": {},
          "execution_count": 7
        }
      ],
      "source": [
        "#Print Schema\n",
        "len(data.columns), data.printSchema()"
      ]
    },
    {
      "cell_type": "code",
      "execution_count": null,
      "metadata": {
        "id": "O8rAZxvqKhVc"
      },
      "outputs": [],
      "source": [
        "#rename Target('SalePrice') to 'label\n",
        "df_final = data.withColumnRenamed('SalePrice','label')"
      ]
    },
    {
      "cell_type": "code",
      "execution_count": null,
      "metadata": {
        "id": "L80GXuXnKhXr"
      },
      "outputs": [],
      "source": [
        "#Change data types in data train\n",
        "df_final=df_final.withColumn(\"LotFrontage\", df_final[\"LotFrontage\"].cast(IntegerType()))\n",
        "df_final=df_final.withColumn(\"OverallQual\", df_final[\"OverallQual\"].cast(StringType()))\n",
        "df_final=df_final.withColumn(\"OverallCond\", df_final[\"OverallCond\"].cast(StringType()))\n",
        "df_final=df_final.withColumn(\"MasVnrArea\", df_final[\"MasVnrArea\"].cast(IntegerType()))\n",
        "df_final=df_final.withColumn(\"GarageYrBlt\", df_final[\"GarageYrBlt\"].cast(IntegerType()))"
      ]
    },
    {
      "cell_type": "code",
      "execution_count": null,
      "metadata": {
        "colab": {
          "base_uri": "https://localhost:8080/"
        },
        "id": "yzPCCcF6KhZm",
        "outputId": "8169c2ab-b4de-40be-e62a-f494b7d1fe4c"
      },
      "outputs": [
        {
          "output_type": "stream",
          "name": "stdout",
          "text": [
            "root\n",
            " |-- Id: integer (nullable = true)\n",
            " |-- MSSubClass: integer (nullable = true)\n",
            " |-- MSZoning: string (nullable = true)\n",
            " |-- LotFrontage: integer (nullable = true)\n",
            " |-- LotArea: integer (nullable = true)\n",
            " |-- Street: string (nullable = true)\n",
            " |-- Alley: string (nullable = true)\n",
            " |-- LotShape: string (nullable = true)\n",
            " |-- LandContour: string (nullable = true)\n",
            " |-- Utilities: string (nullable = true)\n",
            " |-- LotConfig: string (nullable = true)\n",
            " |-- LandSlope: string (nullable = true)\n",
            " |-- Neighborhood: string (nullable = true)\n",
            " |-- Condition1: string (nullable = true)\n",
            " |-- Condition2: string (nullable = true)\n",
            " |-- BldgType: string (nullable = true)\n",
            " |-- HouseStyle: string (nullable = true)\n",
            " |-- OverallQual: string (nullable = true)\n",
            " |-- OverallCond: string (nullable = true)\n",
            " |-- YearBuilt: integer (nullable = true)\n",
            " |-- YearRemodAdd: integer (nullable = true)\n",
            " |-- RoofStyle: string (nullable = true)\n",
            " |-- RoofMatl: string (nullable = true)\n",
            " |-- Exterior1st: string (nullable = true)\n",
            " |-- Exterior2nd: string (nullable = true)\n",
            " |-- MasVnrType: string (nullable = true)\n",
            " |-- MasVnrArea: integer (nullable = true)\n",
            " |-- ExterQual: string (nullable = true)\n",
            " |-- ExterCond: string (nullable = true)\n",
            " |-- Foundation: string (nullable = true)\n",
            " |-- BsmtQual: string (nullable = true)\n",
            " |-- BsmtCond: string (nullable = true)\n",
            " |-- BsmtExposure: string (nullable = true)\n",
            " |-- BsmtFinType1: string (nullable = true)\n",
            " |-- BsmtFinSF1: integer (nullable = true)\n",
            " |-- BsmtFinType2: string (nullable = true)\n",
            " |-- BsmtFinSF2: integer (nullable = true)\n",
            " |-- BsmtUnfSF: integer (nullable = true)\n",
            " |-- TotalBsmtSF: integer (nullable = true)\n",
            " |-- Heating: string (nullable = true)\n",
            " |-- HeatingQC: string (nullable = true)\n",
            " |-- CentralAir: string (nullable = true)\n",
            " |-- Electrical: string (nullable = true)\n",
            " |-- 1stFlrSF: integer (nullable = true)\n",
            " |-- 2ndFlrSF: integer (nullable = true)\n",
            " |-- LowQualFinSF: integer (nullable = true)\n",
            " |-- GrLivArea: integer (nullable = true)\n",
            " |-- BsmtFullBath: integer (nullable = true)\n",
            " |-- BsmtHalfBath: integer (nullable = true)\n",
            " |-- FullBath: integer (nullable = true)\n",
            " |-- HalfBath: integer (nullable = true)\n",
            " |-- BedroomAbvGr: integer (nullable = true)\n",
            " |-- KitchenAbvGr: integer (nullable = true)\n",
            " |-- KitchenQual: string (nullable = true)\n",
            " |-- TotRmsAbvGrd: integer (nullable = true)\n",
            " |-- Functional: string (nullable = true)\n",
            " |-- Fireplaces: integer (nullable = true)\n",
            " |-- FireplaceQu: string (nullable = true)\n",
            " |-- GarageType: string (nullable = true)\n",
            " |-- GarageYrBlt: integer (nullable = true)\n",
            " |-- GarageFinish: string (nullable = true)\n",
            " |-- GarageCars: integer (nullable = true)\n",
            " |-- GarageArea: integer (nullable = true)\n",
            " |-- GarageQual: string (nullable = true)\n",
            " |-- GarageCond: string (nullable = true)\n",
            " |-- PavedDrive: string (nullable = true)\n",
            " |-- WoodDeckSF: integer (nullable = true)\n",
            " |-- OpenPorchSF: integer (nullable = true)\n",
            " |-- EnclosedPorch: integer (nullable = true)\n",
            " |-- 3SsnPorch: integer (nullable = true)\n",
            " |-- ScreenPorch: integer (nullable = true)\n",
            " |-- PoolArea: integer (nullable = true)\n",
            " |-- PoolQC: string (nullable = true)\n",
            " |-- Fence: string (nullable = true)\n",
            " |-- MiscFeature: string (nullable = true)\n",
            " |-- MiscVal: integer (nullable = true)\n",
            " |-- MoSold: integer (nullable = true)\n",
            " |-- YrSold: integer (nullable = true)\n",
            " |-- SaleType: string (nullable = true)\n",
            " |-- SaleCondition: string (nullable = true)\n",
            " |-- label: integer (nullable = true)\n",
            "\n"
          ]
        }
      ],
      "source": [
        "df_final.printSchema()"
      ]
    },
    {
      "cell_type": "markdown",
      "metadata": {
        "id": "wrBCCR1YAbjG"
      },
      "source": [
        "### Categorical and Nummerical variable in df-final"
      ]
    },
    {
      "cell_type": "code",
      "execution_count": null,
      "metadata": {
        "colab": {
          "base_uri": "https://localhost:8080/"
        },
        "id": "Kub1xMWUKheM",
        "outputId": "b2a675da-c626-4cff-fa73-3fed7ac82b3e"
      },
      "outputs": [
        {
          "output_type": "stream",
          "name": "stdout",
          "text": [
            "cat_cols: ['MSZoning', 'Street', 'Alley', 'LotShape', 'LandContour', 'Utilities', 'LotConfig', 'LandSlope', 'Neighborhood', 'Condition1', 'Condition2', 'BldgType', 'HouseStyle', 'OverallQual', 'OverallCond', 'RoofStyle', 'RoofMatl', 'Exterior1st', 'Exterior2nd', 'MasVnrType', 'ExterQual', 'ExterCond', 'Foundation', 'BsmtQual', 'BsmtCond', 'BsmtExposure', 'BsmtFinType1', 'BsmtFinType2', 'Heating', 'HeatingQC', 'CentralAir', 'Electrical', 'KitchenQual', 'Functional', 'FireplaceQu', 'GarageType', 'GarageFinish', 'GarageQual', 'GarageCond', 'PavedDrive', 'PoolQC', 'Fence', 'MiscFeature', 'SaleType', 'SaleCondition']\n",
            "num_cols: ['Id', 'MSSubClass', 'LotFrontage', 'LotArea', 'YearBuilt', 'YearRemodAdd', 'MasVnrArea', 'BsmtFinSF1', 'BsmtFinSF2', 'BsmtUnfSF', 'TotalBsmtSF', '1stFlrSF', '2ndFlrSF', 'LowQualFinSF', 'GrLivArea', 'BsmtFullBath', 'BsmtHalfBath', 'FullBath', 'HalfBath', 'BedroomAbvGr', 'KitchenAbvGr', 'TotRmsAbvGrd', 'Fireplaces', 'GarageYrBlt', 'GarageCars', 'GarageArea', 'WoodDeckSF', 'OpenPorchSF', 'EnclosedPorch', '3SsnPorch', 'ScreenPorch', 'PoolArea', 'MiscVal', 'MoSold', 'YrSold', 'label']\n"
          ]
        }
      ],
      "source": [
        "#Categorical and numerical variable\n",
        "#just will select string data type\n",
        "cat_cols = [item[0] for item in df_final.dtypes if item[1].startswith('string')]\n",
        "print(\"cat_cols:\", cat_cols)\n",
        "\n",
        "#just will select integer or double data type\n",
        "num_cols = [item[0] for item in df_final.dtypes if item[1].startswith('int') | item[1].startswith('double')]\n",
        "print(\"num_cols:\", num_cols)"
      ]
    },
    {
      "cell_type": "code",
      "execution_count": null,
      "metadata": {
        "colab": {
          "base_uri": "https://localhost:8080/"
        },
        "id": "YQFC3u_PK7m5",
        "outputId": "e6842dd5-d9b7-4cfe-fffc-92ba7d8743be"
      },
      "outputs": [
        {
          "output_type": "stream",
          "name": "stdout",
          "text": [
            "num_id: Id\n",
            "['Id']\n",
            "num_cols: ['MSSubClass', 'LotFrontage', 'LotArea', 'YearBuilt', 'YearRemodAdd', 'MasVnrArea', 'BsmtFinSF1', 'BsmtFinSF2', 'BsmtUnfSF', 'TotalBsmtSF', '1stFlrSF', '2ndFlrSF', 'LowQualFinSF', 'GrLivArea', 'BsmtFullBath', 'BsmtHalfBath', 'FullBath', 'HalfBath', 'BedroomAbvGr', 'KitchenAbvGr', 'TotRmsAbvGrd', 'Fireplaces', 'GarageYrBlt', 'GarageCars', 'GarageArea', 'WoodDeckSF', 'OpenPorchSF', 'EnclosedPorch', '3SsnPorch', 'ScreenPorch', 'PoolArea', 'MiscVal', 'MoSold', 'YrSold']\n"
          ]
        }
      ],
      "source": [
        "#Save column Id\n",
        "num_id=num_cols.pop(0)\n",
        "print(\"num_id:\", num_id)\n",
        "num_id=[num_id]\n",
        "print(num_id)\n",
        "#Remove column 'label' from numerical columns group\n",
        "num_cols.remove('label') #label is removed because it's the target to validate the model\n",
        "print(\"num_cols:\", num_cols)"
      ]
    },
    {
      "cell_type": "code",
      "execution_count": null,
      "metadata": {
        "colab": {
          "base_uri": "https://localhost:8080/"
        },
        "id": "ekbRBetBK7pP",
        "outputId": "fee9bc5c-297c-4e27-cae2-0526908997a6"
      },
      "outputs": [
        {
          "output_type": "execute_result",
          "data": {
            "text/plain": [
              "1460"
            ]
          },
          "metadata": {},
          "execution_count": 13
        }
      ],
      "source": [
        "#count number of observation\n",
        "df_final.count()"
      ]
    },
    {
      "cell_type": "code",
      "execution_count": null,
      "metadata": {
        "colab": {
          "base_uri": "https://localhost:8080/"
        },
        "id": "LzLfAnaHCa7U",
        "outputId": "f9ec6af2-adbc-4f47-a737-e1fffa78c546"
      },
      "outputs": [
        {
          "output_type": "stream",
          "name": "stdout",
          "text": [
            "+-------+------------------+-----------------+------------------+------------------+------------------+------------------+-----------------+-----------------+-----------------+------------------+-----------------+------------------+-----------------+-----------------+-------------------+--------------------+------------------+-------------------+------------------+-------------------+------------------+------------------+------------------+------------------+-----------------+------------------+-----------------+------------------+------------------+------------------+-----------------+------------------+------------------+------------------+\n",
            "|summary|        MSSubClass|      LotFrontage|           LotArea|         YearBuilt|      YearRemodAdd|        MasVnrArea|       BsmtFinSF1|       BsmtFinSF2|        BsmtUnfSF|       TotalBsmtSF|         1stFlrSF|          2ndFlrSF|     LowQualFinSF|        GrLivArea|       BsmtFullBath|        BsmtHalfBath|          FullBath|           HalfBath|      BedroomAbvGr|       KitchenAbvGr|      TotRmsAbvGrd|        Fireplaces|       GarageYrBlt|        GarageCars|       GarageArea|        WoodDeckSF|      OpenPorchSF|     EnclosedPorch|         3SsnPorch|       ScreenPorch|         PoolArea|           MiscVal|            MoSold|            YrSold|\n",
            "+-------+------------------+-----------------+------------------+------------------+------------------+------------------+-----------------+-----------------+-----------------+------------------+-----------------+------------------+-----------------+-----------------+-------------------+--------------------+------------------+-------------------+------------------+-------------------+------------------+------------------+------------------+------------------+-----------------+------------------+-----------------+------------------+------------------+------------------+-----------------+------------------+------------------+------------------+\n",
            "|  count|              1460|             1201|              1460|              1460|              1460|              1452|             1460|             1460|             1460|              1460|             1460|              1460|             1460|             1460|               1460|                1460|              1460|               1460|              1460|               1460|              1460|              1460|              1379|              1460|             1460|              1460|             1460|              1460|              1460|              1460|             1460|              1460|              1460|              1460|\n",
            "|   mean|56.897260273972606|70.04995836802665|10516.828082191782| 1971.267808219178|1984.8657534246574|103.68526170798899|443.6397260273973|46.54931506849315|567.2404109589041|1057.4294520547944|1162.626712328767|346.99246575342465|5.844520547945206|1515.463698630137|0.42534246575342466|0.057534246575342465|1.5650684931506849|0.38287671232876713|2.8664383561643834| 1.0465753424657533| 6.517808219178082| 0.613013698630137|1978.5061638868744|1.7671232876712328|472.9801369863014|  94.2445205479452|46.66027397260274|21.954109589041096|3.4095890410958902|15.060958904109588|2.758904109589041|43.489041095890414| 6.321917808219178|2007.8157534246575|\n",
            "| stddev| 42.30057099381045|24.28475177448321|  9981.26493237915|30.202904042525294| 20.64540680770938|181.06620658721647|456.0980908409278|161.3192728065416|441.8669552924343| 438.7053244594709|386.5877380410744|  436.528435886257|48.62308143352024|525.4803834232024| 0.5189106060898061| 0.23875264627921197|0.5509158012954318| 0.5028853810928912|0.8157780441442279|0.22033819838403076|1.6253932905840511|0.6446663863122297| 24.68972476859027|0.7473150101111095|213.8048414533803|125.33879435172422| 66.2560276766497| 61.11914860172857|29.317330556781872| 55.75741528187416|40.17730694453021| 496.1230244579441|2.7036262083595113|1.3280951205521145|\n",
            "|    min|                20|               21|              1300|              1872|              1950|                 0|                0|                0|                0|                 0|              334|                 0|                0|              334|                  0|                   0|                 0|                  0|                 0|                  0|                 2|                 0|              1900|                 0|                0|                 0|                0|                 0|                 0|                 0|                0|                 0|                 1|              2006|\n",
            "|    max|               190|              313|            215245|              2010|              2010|              1600|             5644|             1474|             2336|              6110|             4692|              2065|              572|             5642|                  3|                   2|                 3|                  2|                 8|                  3|                14|                 3|              2010|                 4|             1418|               857|              547|               552|               508|               480|              738|             15500|                12|              2010|\n",
            "+-------+------------------+-----------------+------------------+------------------+------------------+------------------+-----------------+-----------------+-----------------+------------------+-----------------+------------------+-----------------+-----------------+-------------------+--------------------+------------------+-------------------+------------------+-------------------+------------------+------------------+------------------+------------------+-----------------+------------------+-----------------+------------------+------------------+------------------+-----------------+------------------+------------------+------------------+\n",
            "\n"
          ]
        }
      ],
      "source": [
        "# Check summary statistic of numerical columns\n",
        "df_final.select(num_cols).describe().show()"
      ]
    },
    {
      "cell_type": "code",
      "execution_count": null,
      "metadata": {
        "colab": {
          "base_uri": "https://localhost:8080/"
        },
        "id": "pTeZ_j-HK7rX",
        "outputId": "615b8b10-bea7-4b8d-8a55-59235b0dab6e"
      },
      "outputs": [
        {
          "output_type": "execute_result",
          "data": {
            "text/plain": [
              "Row(Id=1, MSSubClass=60, MSZoning='RL', LotFrontage=65, LotArea=8450, Street='Pave', Alley='NA', LotShape='Reg', LandContour='Lvl', Utilities='AllPub', LotConfig='Inside', LandSlope='Gtl', Neighborhood='CollgCr', Condition1='Norm', Condition2='Norm', BldgType='1Fam', HouseStyle='2Story', OverallQual='7', OverallCond='5', YearBuilt=2003, YearRemodAdd=2003, RoofStyle='Gable', RoofMatl='CompShg', Exterior1st='VinylSd', Exterior2nd='VinylSd', MasVnrType='BrkFace', MasVnrArea=196, ExterQual='Gd', ExterCond='TA', Foundation='PConc', BsmtQual='Gd', BsmtCond='TA', BsmtExposure='No', BsmtFinType1='GLQ', BsmtFinSF1=706, BsmtFinType2='Unf', BsmtFinSF2=0, BsmtUnfSF=150, TotalBsmtSF=856, Heating='GasA', HeatingQC='Ex', CentralAir='Y', Electrical='SBrkr', 1stFlrSF=856, 2ndFlrSF=854, LowQualFinSF=0, GrLivArea=1710, BsmtFullBath=1, BsmtHalfBath=0, FullBath=2, HalfBath=1, BedroomAbvGr=3, KitchenAbvGr=1, KitchenQual='Gd', TotRmsAbvGrd=8, Functional='Typ', Fireplaces=0, FireplaceQu='NA', GarageType='Attchd', GarageYrBlt=2003, GarageFinish='RFn', GarageCars=2, GarageArea=548, GarageQual='TA', GarageCond='TA', PavedDrive='Y', WoodDeckSF=0, OpenPorchSF=61, EnclosedPorch=0, 3SsnPorch=0, ScreenPorch=0, PoolArea=0, PoolQC='NA', Fence='NA', MiscFeature='NA', MiscVal=0, MoSold=2, YrSold=2008, SaleType='WD', SaleCondition='Normal', label=208500)"
            ]
          },
          "metadata": {},
          "execution_count": 15
        }
      ],
      "source": [
        "df_final.head()\n"
      ]
    },
    {
      "cell_type": "markdown",
      "metadata": {
        "id": "-F9JKKDQBvvx"
      },
      "source": [
        "## **Check Missing Value in data**"
      ]
    },
    {
      "cell_type": "code",
      "execution_count": null,
      "metadata": {
        "id": "FrKodFCqK7tr"
      },
      "outputs": [],
      "source": [
        "#Check Missing Value in Pyspark Dataframe\n",
        "def count_nulls(df_final):\n",
        "    \"\"\"Input pyspark dataframe and return list of columns with missing value and it's total value\"\"\"\n",
        "    null_counts = []          #make an empty list to hold our results\n",
        "    for col in df_final.dtypes:     #iterate through the column data types we saw above, e.g. ('C0', 'bigint')\n",
        "        cname = col[0]        #splits out the column name, e.g. 'C0'\n",
        "        ctype = col[1]        #splits out the column type, e.g. 'bigint'\n",
        "        nulls = df_final.where( df_final[cname].isNull() ).count() #check count of null in column name\n",
        "        result = tuple([cname, nulls])  #new tuple, (column name, null count)\n",
        "        null_counts.append(result)      #put the new tuple in our result list\n",
        "    null_counts=[(x,y) for (x,y) in null_counts if y!=0]  #view just columns that have missing values\n",
        "    return null_counts"
      ]
    },
    {
      "cell_type": "code",
      "execution_count": null,
      "metadata": {
        "colab": {
          "base_uri": "https://localhost:8080/"
        },
        "id": "UG3T8rcUK7wY",
        "outputId": "9ea22007-2d0e-42a1-f272-946ae5e627a9"
      },
      "outputs": [
        {
          "output_type": "execute_result",
          "data": {
            "text/plain": [
              "[('LotFrontage', 259), ('MasVnrArea', 8), ('GarageYrBlt', 81)]"
            ]
          },
          "metadata": {},
          "execution_count": 17
        }
      ],
      "source": [
        "#call function check missing values\n",
        "null_counts = count_nulls(df_final)\n",
        "null_counts"
      ]
    },
    {
      "cell_type": "markdown",
      "metadata": {
        "id": "tf6Bb8PECKqB"
      },
      "source": [
        "#### From null_counts, we just take information of columns name and save in list \"list_cols_miss\", like in the script below:"
      ]
    },
    {
      "cell_type": "code",
      "execution_count": null,
      "metadata": {
        "colab": {
          "base_uri": "https://localhost:8080/"
        },
        "id": "9Ky5FlU4K709",
        "outputId": "d418515f-04ab-4f05-a811-1313c4fc88d2"
      },
      "outputs": [
        {
          "output_type": "execute_result",
          "data": {
            "text/plain": [
              "['LotFrontage', 'MasVnrArea', 'GarageYrBlt']"
            ]
          },
          "metadata": {},
          "execution_count": 18
        }
      ],
      "source": [
        "list_cols_miss=[x[0] for x in null_counts]\n",
        "list_cols_miss"
      ]
    },
    {
      "cell_type": "markdown",
      "metadata": {
        "id": "2pYaU4naCnVc"
      },
      "source": [
        "##### From list_cols_miss create dataframe called \"df_miss\". The aim is to define categorical and numerical columns which have missing values. As the process of handling missing values will be diffrent betwen numerical dan categorical variables."
      ]
    },
    {
      "cell_type": "code",
      "execution_count": null,
      "metadata": {
        "colab": {
          "base_uri": "https://localhost:8080/"
        },
        "id": "0SQQiSBDM25F",
        "outputId": "351483f6-745d-41ad-814c-8dbcdcaa7d9a"
      },
      "outputs": [
        {
          "output_type": "execute_result",
          "data": {
            "text/plain": [
              "[('LotFrontage', 'int'), ('MasVnrArea', 'int'), ('GarageYrBlt', 'int')]"
            ]
          },
          "metadata": {},
          "execution_count": 19
        }
      ],
      "source": [
        "#Create dataframe which just has list_cols_miss\n",
        "df_miss= df_final.select(*list_cols_miss)\n",
        "\n",
        "#view data types in df_miss\n",
        "df_miss.dtypes"
      ]
    },
    {
      "cell_type": "markdown",
      "metadata": {
        "id": "uHcb5H93C2pZ"
      },
      "source": [
        "#### After we create \"df_miss\", we split to categorical and numerical columns which have missing value. for categorical columns we called \"catcolums_miss\" and for numerical columns we called \"numcolumns_miss\". Like in script below:"
      ]
    },
    {
      "cell_type": "code",
      "execution_count": null,
      "metadata": {
        "colab": {
          "base_uri": "https://localhost:8080/"
        },
        "id": "Plz7NDJdK75Y",
        "outputId": "71fb5d57-9f4c-4087-db12-4edc708056c7"
      },
      "outputs": [
        {
          "output_type": "stream",
          "name": "stdout",
          "text": [
            "catcolums_miss: []\n",
            "numcolumns_miss: ['LotFrontage', 'MasVnrArea', 'GarageYrBlt']\n"
          ]
        }
      ],
      "source": [
        "#Define categorical columns and numerical columns which have missing value.\n",
        "### for categorical columns\n",
        "catcolums_miss=[item[0] for item in df_miss.dtypes if item[1].startswith('string')]  #will select name of column with string data type\n",
        "print(\"catcolums_miss:\", catcolums_miss)\n",
        "\n",
        "### for numerical columns\n",
        "numcolumns_miss = [item[0] for item in df_miss.dtypes if item[1].startswith('int') | item[1].startswith('double')] #will select name of column with integer or double data type\n",
        "print(\"numcolumns_miss:\", numcolumns_miss)"
      ]
    },
    {
      "cell_type": "markdown",
      "metadata": {
        "id": "QaKl3zZEDU6H"
      },
      "source": [
        "## Handle Missing Values\n",
        "\n",
        "For categorical columns we use most frequent to fill missing values. Therefore we have to count categories which has max values in each columns by counting and sorting descenting each columns in dataframe with no has missing values. Therefore we drop missing values and save in new dataframe called \"df_Nomiss\". For numerical columns we fill missing values with average in it's columns."
      ]
    },
    {
      "cell_type": "markdown",
      "metadata": {
        "id": "93u76QTdDmUL"
      },
      "source": [
        "### **Note: We just have numerical columns which have missing value**"
      ]
    },
    {
      "cell_type": "code",
      "execution_count": null,
      "metadata": {
        "colab": {
          "base_uri": "https://localhost:8080/"
        },
        "id": "zqWBoggkK78T",
        "outputId": "88fb6610-2526-4c9e-dccf-df16602d1338"
      },
      "outputs": [
        {
          "output_type": "stream",
          "name": "stdout",
          "text": [
            "LotFrontage 70.0\n",
            "MasVnrArea 104.0\n",
            "GarageYrBlt 1979.0\n"
          ]
        }
      ],
      "source": [
        "#fill missing value in numerical variable with average\n",
        "for i in numcolumns_miss:\n",
        "    meanvalue = df_final.select(round(mean(i))).collect()[0][0] #calculate average in each numerical column\n",
        "    print(i, meanvalue) #print name of columns and it's average value\n",
        "    df_final=df_final.na.fill({i:meanvalue}) #fill missing value in each columns with it's average value"
      ]
    },
    {
      "cell_type": "code",
      "execution_count": null,
      "metadata": {
        "colab": {
          "base_uri": "https://localhost:8080/"
        },
        "id": "jA9eVfhRK7-a",
        "outputId": "56a7022d-6eb4-422d-c4be-061aaaf36d95"
      },
      "outputs": [
        {
          "output_type": "execute_result",
          "data": {
            "text/plain": [
              "[]"
            ]
          },
          "metadata": {},
          "execution_count": 22
        }
      ],
      "source": [
        "#Check Missing value after filling\n",
        "null_counts = count_nulls(df_final)\n",
        "null_counts"
      ]
    },
    {
      "cell_type": "markdown",
      "metadata": {
        "id": "-4HWN7h3OvTd"
      },
      "source": [
        "Now, output null_counts is null, it's mean no more columns that have missing values.\n"
      ]
    },
    {
      "cell_type": "markdown",
      "metadata": {
        "id": "LyhcAxDrOxcQ"
      },
      "source": [
        "#  **EDA**\n",
        "## Here i do some EDA on categorical column using SQL code  and i also made some  visualization charts using mongodb server that is mentioned in PPT"
      ]
    },
    {
      "cell_type": "code",
      "execution_count": null,
      "metadata": {
        "colab": {
          "base_uri": "https://localhost:8080/"
        },
        "id": "5Nhq9-eSMBsj",
        "outputId": "1a6cd8cc-6322-45ae-cfc1-36551720550e"
      },
      "outputs": [
        {
          "output_type": "stream",
          "name": "stdout",
          "text": [
            "Counts and Percentage for Utilities column:\n",
            "+---------+-------------+------------------+\n",
            "|Utilities|CategoryCount|        Percentage|\n",
            "+---------+-------------+------------------+\n",
            "|   NoSeWa|            1|0.0684931506849315|\n",
            "|   AllPub|         1459| 99.93150684931507|\n",
            "+---------+-------------+------------------+\n",
            "\n",
            "Counts and Percentage for LotConfig column:\n",
            "+---------+-------------+------------------+\n",
            "|LotConfig|CategoryCount|        Percentage|\n",
            "+---------+-------------+------------------+\n",
            "|   Inside|         1052| 72.05479452054794|\n",
            "|      FR3|            4| 0.273972602739726|\n",
            "|   Corner|          263|18.013698630136986|\n",
            "|  CulDSac|           94| 6.438356164383562|\n",
            "|      FR2|           47| 3.219178082191781|\n",
            "+---------+-------------+------------------+\n",
            "\n",
            "Counts and Percentage for LandSlope column:\n",
            "+---------+-------------+------------------+\n",
            "|LandSlope|CategoryCount|        Percentage|\n",
            "+---------+-------------+------------------+\n",
            "|      Sev|           13|0.8904109589041096|\n",
            "|      Gtl|         1382| 94.65753424657535|\n",
            "|      Mod|           65|4.4520547945205475|\n",
            "+---------+-------------+------------------+\n",
            "\n",
            "Counts and Percentage for Neighborhood column:\n",
            "+------------+-------------+------------------+\n",
            "|Neighborhood|CategoryCount|        Percentage|\n",
            "+------------+-------------+------------------+\n",
            "|     Veenker|           11|0.7534246575342466|\n",
            "|     BrkSide|           58|3.9726027397260277|\n",
            "|     NPkVill|            9|0.6164383561643836|\n",
            "|     NridgHt|           77| 5.273972602739726|\n",
            "|     NoRidge|           41| 2.808219178082192|\n",
            "|      NWAmes|           73|               5.0|\n",
            "|     OldTown|          113| 7.739726027397261|\n",
            "|     Gilbert|           79| 5.410958904109589|\n",
            "|     Somerst|           86|  5.89041095890411|\n",
            "|     Crawfor|           51| 3.493150684931507|\n",
            "|       NAmes|          225| 15.41095890410959|\n",
            "|      IDOTRR|           37|2.5342465753424657|\n",
            "|     Edwards|          100|6.8493150684931505|\n",
            "|      Sawyer|           74| 5.068493150684931|\n",
            "|     StoneBr|           25|1.7123287671232876|\n",
            "|     CollgCr|          150|10.273972602739725|\n",
            "|       SWISU|           25|1.7123287671232876|\n",
            "|     MeadowV|           17|1.1643835616438356|\n",
            "|      Timber|           38|2.6027397260273974|\n",
            "|     Blmngtn|           17|1.1643835616438356|\n",
            "+------------+-------------+------------------+\n",
            "only showing top 20 rows\n",
            "\n",
            "Counts and Percentage for Condition1 column:\n",
            "+----------+-------------+------------------+\n",
            "|Condition1|CategoryCount|        Percentage|\n",
            "+----------+-------------+------------------+\n",
            "|      PosN|           19|1.3013698630136987|\n",
            "|      RRNe|            2| 0.136986301369863|\n",
            "|    Artery|           48| 3.287671232876712|\n",
            "|     Feedr|           81|5.5479452054794525|\n",
            "|      Norm|         1260|  86.3013698630137|\n",
            "|      RRNn|            5|0.3424657534246575|\n",
            "|      RRAn|           26|1.7808219178082192|\n",
            "|      PosA|            8| 0.547945205479452|\n",
            "|      RRAe|           11|0.7534246575342466|\n",
            "+----------+-------------+------------------+\n",
            "\n",
            "Counts and Percentage for Condition2 column:\n",
            "+----------+-------------+------------------+\n",
            "|Condition2|CategoryCount|        Percentage|\n",
            "+----------+-------------+------------------+\n",
            "|      PosN|            2| 0.136986301369863|\n",
            "|    Artery|            2| 0.136986301369863|\n",
            "|     Feedr|            6| 0.410958904109589|\n",
            "|      Norm|         1445| 98.97260273972603|\n",
            "|      RRNn|            2| 0.136986301369863|\n",
            "|      RRAn|            1|0.0684931506849315|\n",
            "|      PosA|            1|0.0684931506849315|\n",
            "|      RRAe|            1|0.0684931506849315|\n",
            "+----------+-------------+------------------+\n",
            "\n",
            "Counts and Percentage for BldgType column:\n",
            "+--------+-------------+------------------+\n",
            "|BldgType|CategoryCount|        Percentage|\n",
            "+--------+-------------+------------------+\n",
            "|   Twnhs|           43| 2.945205479452055|\n",
            "|    1Fam|         1220| 83.56164383561644|\n",
            "|  Duplex|           52|3.5616438356164384|\n",
            "|  2fmCon|           31|2.1232876712328768|\n",
            "|  TwnhsE|          114| 7.808219178082192|\n",
            "+--------+-------------+------------------+\n",
            "\n",
            "Counts and Percentage for BsmtFinType1 column:\n",
            "+------------+-------------+------------------+\n",
            "|BsmtFinType1|CategoryCount|        Percentage|\n",
            "+------------+-------------+------------------+\n",
            "|          NA|           37|2.5342465753424657|\n",
            "|         Unf|          430| 29.45205479452055|\n",
            "|         LwQ|           74| 5.068493150684931|\n",
            "|         GLQ|          418| 28.63013698630137|\n",
            "|         BLQ|          148|10.136986301369863|\n",
            "|         Rec|          133|  9.10958904109589|\n",
            "|         ALQ|          220|15.068493150684931|\n",
            "+------------+-------------+------------------+\n",
            "\n",
            "Counts and Percentage for BsmtFinType2 column:\n",
            "+------------+-------------+------------------+\n",
            "|BsmtFinType2|CategoryCount|        Percentage|\n",
            "+------------+-------------+------------------+\n",
            "|          NA|           38|2.6027397260273974|\n",
            "|         Unf|         1256| 86.02739726027397|\n",
            "|         LwQ|           46|3.1506849315068495|\n",
            "|         GLQ|           14|0.9589041095890412|\n",
            "|         BLQ|           33|  2.26027397260274|\n",
            "|         Rec|           54|3.6986301369863015|\n",
            "|         ALQ|           19|1.3013698630136987|\n",
            "+------------+-------------+------------------+\n",
            "\n",
            "Counts and Percentage for Heating column:\n",
            "+-------+-------------+------------------+\n",
            "|Heating|CategoryCount|        Percentage|\n",
            "+-------+-------------+------------------+\n",
            "|   OthW|            2| 0.136986301369863|\n",
            "|   Wall|            4| 0.273972602739726|\n",
            "|  Floor|            1|0.0684931506849315|\n",
            "|   GasW|           18|1.2328767123287672|\n",
            "|   GasA|         1428| 97.80821917808218|\n",
            "|   Grav|            7|0.4794520547945206|\n",
            "+-------+-------------+------------------+\n",
            "\n",
            "Counts and Percentage for HeatingQC column:\n",
            "+---------+-------------+------------------+\n",
            "|HeatingQC|CategoryCount|        Percentage|\n",
            "+---------+-------------+------------------+\n",
            "|       Gd|          241|16.506849315068493|\n",
            "|       Po|            1|0.0684931506849315|\n",
            "|       Ex|          741|50.753424657534254|\n",
            "|       Fa|           49| 3.356164383561644|\n",
            "|       TA|          428|29.315068493150687|\n",
            "+---------+-------------+------------------+\n",
            "\n"
          ]
        }
      ],
      "source": [
        "df_final.createOrReplaceTempView(\"my_table\")\n",
        "\n",
        "# List of categorical columns\n",
        "categorical_columns = ['Utilities', 'LotConfig', 'LandSlope', 'Neighborhood', 'Condition1', 'Condition2', 'BldgType', 'BsmtFinType1', 'BsmtFinType2', 'Heating', 'HeatingQC']\n",
        "\n",
        "# Iterate over each categorical column\n",
        "for column in categorical_columns:\n",
        "    # Using SQL query to count categories for the current column\n",
        "    query = f\"\"\"SELECT {column}, COUNT(*) as CategoryCount,COUNT(*) / (SELECT COUNT(*) FROM my_table) * 100 as Percentage FROM my_table GROUP BY {column}\"\"\"\n",
        "    # Execute the query\n",
        "    result = spark.sql(query)\n",
        "    # Display the result\n",
        "    print(f\"Counts and Percentage for {column} column:\")\n",
        "    result.show()"
      ]
    },
    {
      "cell_type": "markdown",
      "metadata": {
        "id": "SVewvxuJRENK"
      },
      "source": [
        "## Insignificant Categories in Data\n",
        "From  above we can see, there are much categories with minimal number let's say under 7 from total observations 1460. Those minimal numbers of categories called insignificant categories and will replace with the largest numbers of catories in each categorical columns.\n",
        "\n",
        "---\n",
        "\n",
        "\n",
        "\n",
        "---\n",
        "\n"
      ]
    },
    {
      "cell_type": "code",
      "execution_count": null,
      "metadata": {
        "id": "CqWlcyYPLOlp"
      },
      "outputs": [],
      "source": [
        "# REPLACING Insignificant Categories in Data\n",
        "threshold=97\n",
        "threshold2=0.7"
      ]
    },
    {
      "cell_type": "code",
      "execution_count": null,
      "metadata": {
        "id": "ebo-ELsPLOoB"
      },
      "outputs": [],
      "source": [
        "def replace_cat2(f,cols):\n",
        "    \"\"\"input are dataframe and categorical variables, replace insignificant categories (percentage <=0.7) with largest number\n",
        "    of catgories and output is new dataframe \"\"\"\n",
        "    df_percent=f.groupBy(cols).count().sort(col(\"count\").desc())\\\n",
        "                .withColumn('total',sum(col('count')).over(window))\\\n",
        "                .withColumn('Percent',col('count')*100/col('total')) #calculate the percentage-save in Percent columns from each categories\n",
        "    dominant_cat=df_percent.select(df_percent['Percent']).collect()[0][0] #calculate the highest percentage of category\n",
        "    count_dist=f.select([cols]).distinct().count() #calculate distinct values in that columns\n",
        "    if count_dist > 2 and dominant_cat <= threshold :\n",
        "        print('column:', cols)\n",
        "        cols_names.append(cols)  #combine with previous list\n",
        "        replacement=f.groupBy(cols).count().sort(col(\"count\").desc()).collect()[0][0] #define dominant category\n",
        "        print(\"replacement:\",replacement)\n",
        "        replacing.append(replacement) #combine with previous list\n",
        "        insign_cat=df_percent.filter(df_percent['Percent']< threshold2).select(df_percent[cols]).collect() #calculate insignificant categories\n",
        "        insign_cat=[r[cols] for r in insign_cat] #just take the values\n",
        "        category.append(insign_cat) #combine with previous list\n",
        "        print(\"insign_cat:\",insign_cat)\n",
        "        f=f.replace(insign_cat,replacement, cols) #replace insignificant categories with dominant categories\n",
        "    return f"
      ]
    },
    {
      "cell_type": "code",
      "execution_count": null,
      "metadata": {
        "colab": {
          "base_uri": "https://localhost:8080/"
        },
        "id": "LsQufbnDLOq_",
        "outputId": "e0f78b5c-95f4-4fb0-afd6-8a0e07f918d4"
      },
      "outputs": [
        {
          "output_type": "stream",
          "name": "stdout",
          "text": [
            "+----------+-----+-----+------------------+\n",
            "|Condition1|count|total|           Percent|\n",
            "+----------+-----+-----+------------------+\n",
            "|      Norm| 1260| 1460|  86.3013698630137|\n",
            "|     Feedr|   81| 1460|5.5479452054794525|\n",
            "|    Artery|   48| 1460| 3.287671232876712|\n",
            "|      RRAn|   26| 1460|1.7808219178082192|\n",
            "|      PosN|   19| 1460|1.3013698630136987|\n",
            "|      RRAe|   11| 1460|0.7534246575342466|\n",
            "|      PosA|    8| 1460| 0.547945205479452|\n",
            "|      RRNn|    5| 1460|0.3424657534246575|\n",
            "|      RRNe|    2| 1460| 0.136986301369863|\n",
            "+----------+-----+-----+------------------+\n",
            "\n"
          ]
        }
      ],
      "source": [
        "df_percent=df_final.groupBy('Condition1').count().sort(col(\"count\").desc())\\\n",
        "                    .withColumn('total',sum(col('count')).over(window))\\\n",
        "                    .withColumn('Percent',col('count')*100/col('total')) #calculate the percentage-save in Percent columns from each categories\n",
        "df_percent.show()\n",
        "#dominant_cat=df_percent.select(df_percent['Percent']).collect()[0][0]\n",
        "#dominant_cat"
      ]
    },
    {
      "cell_type": "code",
      "execution_count": null,
      "metadata": {
        "colab": {
          "base_uri": "https://localhost:8080/"
        },
        "id": "iHp2ly97LfYZ",
        "outputId": "5318bb74-04fe-4ab9-a0f3-f01deb7df2a0"
      },
      "outputs": [
        {
          "output_type": "stream",
          "name": "stdout",
          "text": [
            "column: MSZoning\n",
            "replacement: RL\n",
            "insign_cat: ['C (all)']\n",
            "column: Alley\n",
            "replacement: NA\n",
            "insign_cat: []\n",
            "column: LotShape\n",
            "replacement: Reg\n",
            "insign_cat: ['IR3']\n",
            "column: LandContour\n",
            "replacement: Lvl\n",
            "insign_cat: []\n",
            "column: LotConfig\n",
            "replacement: Inside\n",
            "insign_cat: ['FR3']\n",
            "column: LandSlope\n",
            "replacement: Gtl\n",
            "insign_cat: []\n",
            "column: Neighborhood\n",
            "replacement: NAmes\n",
            "insign_cat: ['NPkVill', 'Blueste']\n",
            "column: Condition1\n",
            "replacement: Norm\n",
            "insign_cat: ['PosA', 'RRNn', 'RRNe']\n",
            "column: BldgType\n",
            "replacement: 1Fam\n",
            "insign_cat: []\n",
            "column: HouseStyle\n",
            "replacement: 1Story\n",
            "insign_cat: ['2.5Fin']\n",
            "column: OverallQual\n",
            "replacement: 5\n",
            "insign_cat: ['2', '1']\n",
            "column: OverallCond\n",
            "replacement: 5\n",
            "insign_cat: ['2', '1']\n",
            "column: RoofStyle\n",
            "replacement: Gable\n",
            "insign_cat: ['Mansard', 'Shed']\n",
            "column: Exterior1st\n",
            "replacement: VinylSd\n",
            "insign_cat: ['Stone', 'BrkComm', 'AsphShn', 'ImStucc', 'CBlock']\n",
            "column: Exterior2nd\n",
            "replacement: VinylSd\n",
            "insign_cat: ['ImStucc', 'Brk Cmn', 'Stone', 'AsphShn', 'Other', 'CBlock']\n",
            "column: MasVnrType\n",
            "replacement: None\n",
            "insign_cat: ['NA']\n",
            "column: ExterQual\n",
            "replacement: TA\n",
            "insign_cat: []\n",
            "column: ExterCond\n",
            "replacement: TA\n",
            "insign_cat: ['Ex', 'Po']\n",
            "column: Foundation\n",
            "replacement: PConc\n",
            "insign_cat: ['Stone', 'Wood']\n",
            "column: BsmtQual\n",
            "replacement: TA\n",
            "insign_cat: []\n",
            "column: BsmtCond\n",
            "replacement: TA\n",
            "insign_cat: ['Po']\n",
            "column: BsmtExposure\n",
            "replacement: No\n",
            "insign_cat: []\n",
            "column: BsmtFinType1\n",
            "replacement: Unf\n",
            "insign_cat: []\n",
            "column: BsmtFinType2\n",
            "replacement: Unf\n",
            "insign_cat: []\n",
            "column: HeatingQC\n",
            "replacement: Ex\n",
            "insign_cat: ['Po']\n",
            "column: Electrical\n",
            "replacement: SBrkr\n",
            "insign_cat: ['FuseP', 'Mix', 'NA']\n",
            "column: KitchenQual\n",
            "replacement: TA\n",
            "insign_cat: []\n",
            "column: Functional\n",
            "replacement: Typ\n",
            "insign_cat: ['Maj2', 'Sev']\n",
            "column: FireplaceQu\n",
            "replacement: NA\n",
            "insign_cat: []\n",
            "column: GarageType\n",
            "replacement: Attchd\n",
            "insign_cat: ['CarPort', '2Types']\n",
            "column: GarageFinish\n",
            "replacement: Unf\n",
            "insign_cat: []\n",
            "column: GarageQual\n",
            "replacement: TA\n",
            "insign_cat: ['Po', 'Ex']\n",
            "column: GarageCond\n",
            "replacement: TA\n",
            "insign_cat: ['Gd', 'Po', 'Ex']\n",
            "column: PavedDrive\n",
            "replacement: Y\n",
            "insign_cat: []\n",
            "column: Fence\n",
            "replacement: NA\n",
            "insign_cat: []\n",
            "column: MiscFeature\n",
            "replacement: NA\n",
            "insign_cat: ['Gar2', 'Othr', 'TenC']\n",
            "column: SaleType\n",
            "replacement: WD\n",
            "insign_cat: ['ConLD', 'ConLI', 'ConLw', 'CWD', 'Oth', 'Con']\n",
            "column: SaleCondition\n",
            "replacement: Normal\n",
            "insign_cat: ['AdjLand']\n"
          ]
        }
      ],
      "source": [
        "#call function replacing insignificant categories\n",
        "replacing=[]\n",
        "cols_names=[]\n",
        "category=[]\n",
        "for cols in cat_cols:\n",
        "    df_final=replace_cat2(df_final,cols)"
      ]
    },
    {
      "cell_type": "code",
      "execution_count": null,
      "metadata": {
        "colab": {
          "base_uri": "https://localhost:8080/"
        },
        "id": "j55owdrzLfak",
        "outputId": "b4a8c463-2640-4207-8afb-109088ca46c2"
      },
      "outputs": [
        {
          "output_type": "execute_result",
          "data": {
            "text/plain": [
              "pyspark.sql.dataframe.DataFrame"
            ]
          },
          "metadata": {},
          "execution_count": 28
        }
      ],
      "source": [
        "type(df_final)"
      ]
    },
    {
      "cell_type": "code",
      "execution_count": null,
      "metadata": {
        "colab": {
          "base_uri": "https://localhost:8080/"
        },
        "id": "UOSx7D07Lfda",
        "outputId": "fc92d9b0-2b54-45dd-8b7f-724062376948"
      },
      "outputs": [
        {
          "output_type": "execute_result",
          "data": {
            "text/plain": [
              "(38, 38, 38)"
            ]
          },
          "metadata": {},
          "execution_count": 29
        }
      ],
      "source": [
        "#check length in list cols_names, category and replacing\n",
        "len(cols_names), len(category), len(replacing)"
      ]
    },
    {
      "cell_type": "markdown",
      "metadata": {
        "id": "YsTVUltUSDHd"
      },
      "source": [
        "Those three list will be created into dataframe called g."
      ]
    },
    {
      "cell_type": "code",
      "execution_count": null,
      "metadata": {
        "colab": {
          "base_uri": "https://localhost:8080/"
        },
        "id": "awa9B6UOLffl",
        "outputId": "4d0e7715-86e8-46dd-b04a-797de0a8ed8b"
      },
      "outputs": [
        {
          "output_type": "stream",
          "name": "stdout",
          "text": [
            "+------------+---------+------------------+\n",
            "|  cols_names|replacing|          category|\n",
            "+------------+---------+------------------+\n",
            "|    MSZoning|       RL|         [C (all)]|\n",
            "|       Alley|       NA|                []|\n",
            "|    LotShape|      Reg|             [IR3]|\n",
            "| LandContour|      Lvl|                []|\n",
            "|   LotConfig|   Inside|             [FR3]|\n",
            "|   LandSlope|      Gtl|                []|\n",
            "|Neighborhood|    NAmes|[NPkVill, Blueste]|\n",
            "|  Condition1|     Norm|[PosA, RRNn, RRNe]|\n",
            "|    BldgType|     1Fam|                []|\n",
            "+------------+---------+------------------+\n",
            "only showing top 9 rows\n",
            "\n"
          ]
        }
      ],
      "source": [
        "#Create dataframe of replaced categories\n",
        "g=spark.createDataFrame(list(zip(cols_names, replacing, category)),['cols_names', 'replacing', 'category'])\n",
        "g.show(9)"
      ]
    },
    {
      "cell_type": "code",
      "execution_count": null,
      "metadata": {
        "colab": {
          "base_uri": "https://localhost:8080/"
        },
        "id": "1bVmiqcqLfiH",
        "outputId": "2eec8591-ab64-4d31-93f5-e8dc3556b94d"
      },
      "outputs": [
        {
          "output_type": "execute_result",
          "data": {
            "text/plain": [
              "[('cols_names', 'string'),\n",
              " ('replacing', 'string'),\n",
              " ('category', 'array<string>')]"
            ]
          },
          "metadata": {},
          "execution_count": 31
        }
      ],
      "source": [
        "g.dtypes"
      ]
    },
    {
      "cell_type": "code",
      "execution_count": null,
      "metadata": {
        "colab": {
          "base_uri": "https://localhost:8080/"
        },
        "id": "Pkawkj1qLfj9",
        "outputId": "e374b1de-05c7-4345-9324-d14545283211"
      },
      "outputs": [
        {
          "output_type": "stream",
          "name": "stdout",
          "text": [
            "root\n",
            " |-- cols_names: string (nullable = true)\n",
            " |-- replacing: string (nullable = true)\n",
            " |-- category: array (nullable = true)\n",
            " |    |-- element: string (containsNull = true)\n",
            "\n"
          ]
        }
      ],
      "source": [
        "g.printSchema()"
      ]
    },
    {
      "cell_type": "code",
      "execution_count": null,
      "metadata": {
        "id": "QDxGRtR0Lfme"
      },
      "outputs": [],
      "source": [
        "f_percent=df_final.groupBy('MSZoning').count().sort(col(\"count\").desc())\\\n",
        "                       .withColumn('total',sum(col('count')).over(window))\\\n",
        "                       .withColumn('Percent',col('count')*100/col('total'))"
      ]
    },
    {
      "cell_type": "code",
      "execution_count": null,
      "metadata": {
        "colab": {
          "base_uri": "https://localhost:8080/"
        },
        "id": "7khhszaNLxtI",
        "outputId": "045e93a1-7cf8-41c6-f734-4be05dfabe3a"
      },
      "outputs": [
        {
          "output_type": "stream",
          "name": "stdout",
          "text": [
            "+--------+-----+-----+------------------+\n",
            "|MSZoning|count|total|           Percent|\n",
            "+--------+-----+-----+------------------+\n",
            "|      RL| 1161| 1460| 79.52054794520548|\n",
            "|      RM|  218| 1460|14.931506849315069|\n",
            "|      FV|   65| 1460|4.4520547945205475|\n",
            "|      RH|   16| 1460| 1.095890410958904|\n",
            "+--------+-----+-----+------------------+\n",
            "\n"
          ]
        }
      ],
      "source": [
        "f_percent.show()"
      ]
    },
    {
      "cell_type": "code",
      "execution_count": null,
      "metadata": {
        "colab": {
          "base_uri": "https://localhost:8080/"
        },
        "id": "EhfafekkLxvt",
        "outputId": "26bcc207-8971-46d1-ed12-185da96d1591"
      },
      "outputs": [
        {
          "output_type": "stream",
          "name": "stdout",
          "text": [
            "+--------+-----+-----+------------------+\n",
            "|MSZoning|count|total|           Percent|\n",
            "+--------+-----+-----+------------------+\n",
            "|      RL| 1161| 1460| 79.52054794520548|\n",
            "|      RM|  218| 1460|14.931506849315069|\n",
            "|      FV|   65| 1460|4.4520547945205475|\n",
            "|      RH|   16| 1460| 1.095890410958904|\n",
            "+--------+-----+-----+------------------+\n",
            "\n"
          ]
        }
      ],
      "source": [
        "f_percent.show()"
      ]
    },
    {
      "cell_type": "markdown",
      "metadata": {
        "id": "vzjKOp5USxOX"
      },
      "source": [
        "## Handle of outlier in data\n",
        "\n",
        "Outlier is observations that fall below lower side or above upper side.\n",
        "\n",
        "To handle outlier we approach by replacing the value greater than upper side with upper side value and also replacing the value lower than lower side with lower side value. So, we need calculate upper and lower side from quantile value, quantile is probability distribution of variable. In General, there are three quantile:\n",
        "\n",
        "* Q1 = the value that cut off 25% of the first data when it is sorted in ascending order.\n",
        "* Q2 = cut off data, or median, it's 50 % of the data\n",
        "* Q3 = the value that cut off 75% of the first data when it is sorted in ascending order.\n",
        "IQR or interquartile range is range between Q1 and Q3. IQR = Q3 - Q1.\n",
        "\n",
        "Upper side = Q3 + 1.5 * IQR\n",
        "\n",
        "Lower side = Q1 - 1.5 * IQR"
      ]
    },
    {
      "cell_type": "code",
      "execution_count": null,
      "metadata": {
        "colab": {
          "base_uri": "https://localhost:8080/"
        },
        "id": "OwdoAsu5Sve_",
        "outputId": "04e66c1a-67c3-4a3c-e217-6b5160ef45cd"
      },
      "outputs": [
        {
          "output_type": "stream",
          "name": "stdout",
          "text": [
            "+-------+------------------+------------------+------------------+------------------+------------------+------------------+-----------------+-----------------+-----------------+------------------+-----------------+------------------+-----------------+-----------------+-------------------+--------------------+------------------+-------------------+------------------+-------------------+------------------+------------------+------------------+------------------+-----------------+------------------+-----------------+------------------+------------------+------------------+-----------------+------------------+------------------+------------------+\n",
            "|summary|        MSSubClass|       LotFrontage|           LotArea|         YearBuilt|      YearRemodAdd|        MasVnrArea|       BsmtFinSF1|       BsmtFinSF2|        BsmtUnfSF|       TotalBsmtSF|         1stFlrSF|          2ndFlrSF|     LowQualFinSF|        GrLivArea|       BsmtFullBath|        BsmtHalfBath|          FullBath|           HalfBath|      BedroomAbvGr|       KitchenAbvGr|      TotRmsAbvGrd|        Fireplaces|       GarageYrBlt|        GarageCars|       GarageArea|        WoodDeckSF|      OpenPorchSF|     EnclosedPorch|         3SsnPorch|       ScreenPorch|         PoolArea|           MiscVal|            MoSold|            YrSold|\n",
            "+-------+------------------+------------------+------------------+------------------+------------------+------------------+-----------------+-----------------+-----------------+------------------+-----------------+------------------+-----------------+-----------------+-------------------+--------------------+------------------+-------------------+------------------+-------------------+------------------+------------------+------------------+------------------+-----------------+------------------+-----------------+------------------+------------------+------------------+-----------------+------------------+------------------+------------------+\n",
            "|  count|              1460|              1460|              1460|              1460|              1460|              1460|             1460|             1460|             1460|              1460|             1460|              1460|             1460|             1460|               1460|                1460|              1460|               1460|              1460|               1460|              1460|              1460|              1460|              1460|             1460|              1460|             1460|              1460|              1460|              1460|             1460|              1460|              1460|              1460|\n",
            "|   mean|56.897260273972606| 70.04109589041096|10516.828082191782| 1971.267808219178|1984.8657534246574|103.68698630136986|443.6397260273973|46.54931506849315|567.2404109589041|1057.4294520547944|1162.626712328767|346.99246575342465|5.844520547945206|1515.463698630137|0.42534246575342466|0.057534246575342465|1.5650684931506849|0.38287671232876713|2.8664383561643834| 1.0465753424657533| 6.517808219178082| 0.613013698630137|1978.5335616438356|1.7671232876712328|472.9801369863014|  94.2445205479452|46.66027397260274|21.954109589041096|3.4095890410958902|15.060958904109588|2.758904109589041|43.489041095890414| 6.321917808219178|2007.8157534246575|\n",
            "| stddev| 42.30057099381045|22.024030962875944|  9981.26493237915|30.202904042525294| 20.64540680770938|180.56911392177412|456.0980908409278|161.3192728065416|441.8669552924343| 438.7053244594709|386.5877380410744|  436.528435886257|48.62308143352024|525.4803834232024| 0.5189106060898061| 0.23875264627921197|0.5509158012954318| 0.5028853810928912|0.8157780441442279|0.22033819838403076|1.6253932905840511|0.6446663863122297|23.994849736965566|0.7473150101111095|213.8048414533803|125.33879435172422| 66.2560276766497| 61.11914860172857|29.317330556781872| 55.75741528187416|40.17730694453021| 496.1230244579441|2.7036262083595113|1.3280951205521145|\n",
            "|    min|                20|                21|              1300|              1872|              1950|                 0|                0|                0|                0|                 0|              334|                 0|                0|              334|                  0|                   0|                 0|                  0|                 0|                  0|                 2|                 0|              1900|                 0|                0|                 0|                0|                 0|                 0|                 0|                0|                 0|                 1|              2006|\n",
            "|    max|               190|               313|            215245|              2010|              2010|              1600|             5644|             1474|             2336|              6110|             4692|              2065|              572|             5642|                  3|                   2|                 3|                  2|                 8|                  3|                14|                 3|              2010|                 4|             1418|               857|              547|               552|               508|               480|              738|             15500|                12|              2010|\n",
            "+-------+------------------+------------------+------------------+------------------+------------------+------------------+-----------------+-----------------+-----------------+------------------+-----------------+------------------+-----------------+-----------------+-------------------+--------------------+------------------+-------------------+------------------+-------------------+------------------+------------------+------------------+------------------+-----------------+------------------+-----------------+------------------+------------------+------------------+-----------------+------------------+------------------+------------------+\n",
            "\n"
          ]
        }
      ],
      "source": [
        "df_final.select(num_cols).describe().show()"
      ]
    },
    {
      "cell_type": "markdown",
      "metadata": {
        "id": "8TgRj1eBTdTj"
      },
      "source": [
        "### Calculate upper&lower side in  dataframe"
      ]
    },
    {
      "cell_type": "code",
      "execution_count": null,
      "metadata": {
        "id": "XlFkmC-PLxyF"
      },
      "outputs": [],
      "source": [
        "#create quantile dataframe\n",
        "def quantile(e):\n",
        "    \"\"\"Input is dataframe and return new dataframe with value of quantile from numerical columns\"\"\"\n",
        "    percentiles = [0.25, 0.5, 0.75]\n",
        "    quant=spark.createDataFrame(zip(percentiles, *e.approxQuantile(num_cols, percentiles, 0.0)),\n",
        "                               ['percentile']+num_cols) #calculate quantile from pyspark dataframe, 0.0 is relativeError,\n",
        "                               #The relative target precision to achieve (>= 0). If set to zero,#the exact quantiles are computed, which could be very expensive\n",
        "                                #and aggregate the result with percentiles variable, #then create pyspark dataframe\n",
        "    return quant"
      ]
    },
    {
      "cell_type": "code",
      "execution_count": null,
      "metadata": {
        "id": "e9zF2Ia-Lx0K"
      },
      "outputs": [],
      "source": [
        "#call function quantile\n",
        "quantile=quantile(df_final)"
      ]
    },
    {
      "cell_type": "code",
      "execution_count": null,
      "metadata": {
        "id": "0lvV-gw0Lx2s"
      },
      "outputs": [],
      "source": [
        "#function to calculate upper side\n",
        "def upper_value(b,c):\n",
        "    \"\"\"Input is quantile dataframe and name of numerical column and Retrun upper value from the column\"\"\"\n",
        "    q1 = b.select(c).collect()[0][0] #select value of q1 from the column\n",
        "    q2 = b.select(c).collect()[1][0] #select value of q2 from the column\n",
        "    q3 = b.select(c).collect()[2][0] #select value of q3 from the column\n",
        "    IQR=q3-q1  #calculate the value of IQR\n",
        "    upper= q3 + (IQR*1.5)   #calculate the value of upper side\n",
        "    return upper"
      ]
    },
    {
      "cell_type": "code",
      "execution_count": null,
      "metadata": {
        "id": "0NW78eoFTwQv"
      },
      "outputs": [],
      "source": [
        "#function to calculate lower side\n",
        "def lower_value(b,c):\n",
        "    \"\"\"Input is quantile dataframe and name of numerical column and Retrun lower value from the column\"\"\"\n",
        "    q1 = b.select(c).collect()[0][0] #select value of q1 from the column\n",
        "    q2 = b.select(c).collect()[1][0] #select value of q2 from the column\n",
        "    q3 = b.select(c).collect()[2][0] #select value of q3 from the column\n",
        "    IQR=q3-q1                   #calculate the value of IQR\n",
        "    lower= q1 - (IQR*1.5)       #calculate the value of lower side\n",
        "    return lower"
      ]
    },
    {
      "cell_type": "markdown",
      "metadata": {
        "id": "K382GJDET0Nj"
      },
      "source": [
        "### Replacing the outlier"
      ]
    },
    {
      "cell_type": "code",
      "execution_count": null,
      "metadata": {
        "id": "ORcVX5jPLx5d"
      },
      "outputs": [],
      "source": [
        "#function for replacing outlier by upper side\n",
        "def replce_outlier_up2(d,col, value):\n",
        "    \"\"\"Input is name of numerical column and it's upper side value\"\"\"\n",
        "    #global d\n",
        "    d=d.withColumn(col, F.when(d[col] > value , value).otherwise(d[col]))\n",
        "    return d"
      ]
    },
    {
      "cell_type": "code",
      "execution_count": null,
      "metadata": {
        "id": "V_HiiwtILx7x"
      },
      "outputs": [],
      "source": [
        "#function for replacing outlier by lower side\n",
        "def replce_outlier_low2(d,col, value):\n",
        "    \"\"\"Input is name of numerical column and it's lower side value\"\"\"\n",
        "    #global df_final\n",
        "    d=d.withColumn(col, F.when(d[col] < value , value).otherwise(d[col]))\n",
        "    return d"
      ]
    },
    {
      "cell_type": "code",
      "execution_count": null,
      "metadata": {
        "id": "N1TyFa5_T9_T"
      },
      "outputs": [],
      "source": [
        "#call function to calculate lower side and replace value under lower side with value lower side\n",
        "for i in num_cols:\n",
        "    lower=lower_value(quantile,i)\n",
        "    df_final=replce_outlier_low2(df_final, i, lower)"
      ]
    },
    {
      "cell_type": "code",
      "execution_count": null,
      "metadata": {
        "id": "XqlgKyLGLx-Y"
      },
      "outputs": [],
      "source": [
        "#call function to calculate upper side and replace value above upper side with value upper side\n",
        "for x in num_cols:\n",
        "    upper=upper_value(quantile,x)\n",
        "    df_final=replce_outlier_up2(df_final, x, upper)"
      ]
    },
    {
      "cell_type": "code",
      "execution_count": null,
      "metadata": {
        "colab": {
          "base_uri": "https://localhost:8080/"
        },
        "id": "V27oPPtsLyBa",
        "outputId": "b32aa943-6a58-41af-d600-c99419334396"
      },
      "outputs": [
        {
          "output_type": "execute_result",
          "data": {
            "text/plain": [
              "pyspark.sql.dataframe.DataFrame"
            ]
          },
          "metadata": {},
          "execution_count": 45
        }
      ],
      "source": [
        "type(df_final)"
      ]
    },
    {
      "cell_type": "markdown",
      "metadata": {
        "id": "PbQIa_kmUIfD"
      },
      "source": [
        "Check distribution after replacing outlier"
      ]
    },
    {
      "cell_type": "code",
      "execution_count": null,
      "metadata": {
        "colab": {
          "base_uri": "https://localhost:8080/"
        },
        "id": "TXim1BN9LyDf",
        "outputId": "b58a2bd7-29cd-4921-cf31-c5927dcb0dd5"
      },
      "outputs": [
        {
          "output_type": "stream",
          "name": "stdout",
          "text": [
            "+-------+-----------------+-----------------+------------------+------------------+------------------+-----------------+-----------------+----------+-----------------+------------------+-----------------+------------------+------------+------------------+------------------+------------+------------------+-------------------+------------------+------------+-----------------+------------------+------------------+------------------+------------------+-----------------+------------------+-------------+---------+-----------+--------+-------+------------------+------------------+\n",
            "|summary|       MSSubClass|      LotFrontage|           LotArea|         YearBuilt|      YearRemodAdd|       MasVnrArea|       BsmtFinSF1|BsmtFinSF2|        BsmtUnfSF|       TotalBsmtSF|         1stFlrSF|          2ndFlrSF|LowQualFinSF|         GrLivArea|      BsmtFullBath|BsmtHalfBath|          FullBath|           HalfBath|      BedroomAbvGr|KitchenAbvGr|     TotRmsAbvGrd|        Fireplaces|       GarageYrBlt|        GarageCars|        GarageArea|       WoodDeckSF|       OpenPorchSF|EnclosedPorch|3SsnPorch|ScreenPorch|PoolArea|MiscVal|            MoSold|            YrSold|\n",
            "+-------+-----------------+-----------------+------------------+------------------+------------------+-----------------+-----------------+----------+-----------------+------------------+-----------------+------------------+------------+------------------+------------------+------------+------------------+-------------------+------------------+------------+-----------------+------------------+------------------+------------------+------------------+-----------------+------------------+-------------+---------+-----------+--------+-------+------------------+------------------+\n",
            "|  count|             1460|             1460|              1460|              1460|              1460|             1460|             1460|      1460|             1460|              1460|             1460|              1460|        1460|              1460|              1460|        1460|              1460|               1460|              1460|        1460|             1460|              1460|              1460|              1460|              1460|             1460|              1460|         1460|     1460|       1460|    1460|   1460|              1460|              1460|\n",
            "|   mean|55.08561643835616|69.26780821917808| 9648.120547945206|1971.2993150684931|1984.8657534246574|89.93424657534247|439.9945205479452|       0.0|563.7777397260274|          1050.225|1157.009589041096| 346.7890410958904|         0.0|1503.7438356164384|             0.425|         0.0|1.5650684931506849|0.38287671232876713|2.8517123287671233|         1.0|6.487671232876712|0.6113013698630136|1978.5359589041095|1.7654109589041096| 470.7678082191781|91.80684931506849| 42.60342465753425|          0.0|      0.0|        0.0|     0.0|    0.0| 6.321917808219178|2007.8157534246575|\n",
            "| stddev|37.50818323274239|17.23521481949363|3596.1057412499117|30.108396804418692| 20.64540680770938|133.7565681582672|433.2101573239158|       0.0|431.7102139066476|398.05502230174636|362.5594237562408|435.79162055823366|         0.0| 481.3962330951405|0.5173729575892895|         0.0|0.5509158012954318| 0.5028853810928912|0.7595161509377893|         0.0|1.541915635188775|0.6389588040349521|23.987171893763474|0.7427526252066078|207.32651862099033|116.6581196593638|52.501583793315426|          0.0|      0.0|        0.0|     0.0|    0.0|2.7036262083595113|1.3280951205521145|\n",
            "|    min|             20.0|             31.5|            1450.0|            1885.0|            1950.0|              0.0|              0.0|       0.0|              0.0|              40.5|            334.0|               0.0|         0.0|             334.0|               0.0|         0.0|               0.0|                0.0|               0.5|         1.0|              2.0|               0.0|            1903.5|               0.0|               0.0|              0.0|               0.0|          0.0|      0.0|        0.0|     0.0|    0.0|               1.0|            2006.0|\n",
            "|    max|            145.0|            107.5|           17690.0|            2010.0|            2010.0|            410.0|           1780.0|       0.0|           1685.5|            2052.5|           2154.5|            1820.0|         0.0|            2748.0|               2.5|         0.0|               3.0|                2.0|               4.5|         1.0|             10.0|               2.5|            2010.0|               3.5|             945.0|            420.0|             170.0|          0.0|      0.0|        0.0|     0.0|    0.0|              12.0|            2010.0|\n",
            "+-------+-----------------+-----------------+------------------+------------------+------------------+-----------------+-----------------+----------+-----------------+------------------+-----------------+------------------+------------+------------------+------------------+------------+------------------+-------------------+------------------+------------+-----------------+------------------+------------------+------------------+------------------+-----------------+------------------+-------------+---------+-----------+--------+-------+------------------+------------------+\n",
            "\n"
          ]
        }
      ],
      "source": [
        "df_final.select(num_cols).describe().show()"
      ]
    },
    {
      "cell_type": "markdown",
      "source": [
        "## **String Indexer and One Hot Encoder for categorical variables**"
      ],
      "metadata": {
        "id": "t8RknwGvZi53"
      }
    },
    {
      "cell_type": "code",
      "execution_count": null,
      "metadata": {
        "id": "1tP1S3P1dLku"
      },
      "outputs": [],
      "source": [
        "categorical_cols = ['MSZoning', 'Street', 'Alley', 'LotShape', 'LandContour', 'Utilities', 'LotConfig', 'LandSlope', 'Neighborhood', 'Condition1', 'Condition2', 'BldgType', 'HouseStyle', 'OverallQual', 'OverallCond', 'RoofStyle', 'RoofMatl', 'Exterior1st', 'Exterior2nd', 'MasVnrType', 'ExterQual', 'ExterCond', 'Foundation', 'BsmtQual', 'BsmtCond', 'BsmtExposure', 'BsmtFinType1', 'BsmtFinType2', 'Heating', 'HeatingQC', 'CentralAir', 'Electrical', 'KitchenQual', 'Functional', 'FireplaceQu', 'GarageType', 'GarageFinish', 'GarageQual', 'GarageCond', 'PavedDrive', 'PoolQC', 'Fence', 'MiscFeature', 'SaleType', 'SaleCondition']\n",
        "numerical_cols = ['Id', 'MSSubClass', 'LotFrontage', 'LotArea', 'YearBuilt', 'YearRemodAdd', 'MasVnrArea', 'BsmtFinSF1', 'BsmtFinSF2', 'BsmtUnfSF', 'TotalBsmtSF', '1stFlrSF', '2ndFlrSF', 'LowQualFinSF', 'GrLivArea', 'BsmtFullBath', 'BsmtHalfBath', 'FullBath', 'HalfBath', 'BedroomAbvGr', 'KitchenAbvGr', 'TotRmsAbvGrd', 'Fireplaces', 'GarageYrBlt', 'GarageCars', 'GarageArea', 'WoodDeckSF', 'OpenPorchSF', 'EnclosedPorch', '3SsnPorch', 'ScreenPorch', 'PoolArea', 'MiscVal', 'MoSold', 'YrSold']\n",
        "# Step 1: Indexing categorical features\n",
        "indexers = [StringIndexer(inputCol=col, outputCol=col + \"_index\", handleInvalid=\"keep\") for col in categorical_cols]\n",
        "\n",
        "# Step 2: One-hot encoding indexed categorical features\n",
        "encoders = [OneHotEncoder(inputCol=col + \"_index\", outputCol=col + \"_encoded\") for col in categorical_cols]\n",
        "\n",
        "# Step 3: Assemble features into a single vector\n",
        "input_cols = numerical_cols + [col + \"_encoded\" for col in categorical_cols]\n",
        "assembler = VectorAssembler(inputCols=input_cols, outputCol=\"features\")"
      ]
    },
    {
      "cell_type": "markdown",
      "source": [
        "# **Apply Machine Learning Algorithms**"
      ],
      "metadata": {
        "id": "bim3QGZRZ8QY"
      }
    },
    {
      "cell_type": "markdown",
      "source": [
        "**Algorithms**\n",
        "* Decision Tree- This algorithm will find the most significant independent variable to create a values.\n",
        "* Random Forest -This algorithm build multiple decision trees and merges them together and use bagging method.\n",
        "* Gradient Boosting- This algorithm use boosting ensemble technic. This technique employs the logic in which the subsequent predictors learn from the mistakes of the previous predictors."
      ],
      "metadata": {
        "id": "aB7oE2h4bCH-"
      }
    },
    {
      "cell_type": "markdown",
      "source": [
        "**Evaluation**\n",
        "* To evaluate model we use metrics, below:\n",
        "  * R squared\n",
        " * Mean Absolute Error\n",
        " * Mean Squared Error"
      ],
      "metadata": {
        "id": "nA-9V-a0by3U"
      }
    },
    {
      "cell_type": "markdown",
      "source": [
        "### **Decision Tree Regressor**"
      ],
      "metadata": {
        "id": "xY92RiDpaHBc"
      }
    },
    {
      "cell_type": "code",
      "execution_count": null,
      "metadata": {
        "colab": {
          "base_uri": "https://localhost:8080/"
        },
        "id": "6elDfnuq4iJb",
        "outputId": "6310f7b7-b420-4e2a-c923-da26c4542583"
      },
      "outputs": [
        {
          "name": "stdout",
          "output_type": "stream",
          "text": [
            "+------+------------------+\n",
            "| label|        prediction|\n",
            "+------+------------------+\n",
            "|223500|208481.77083333334|\n",
            "|307000| 268538.9183673469|\n",
            "|129900|189008.48101265822|\n",
            "|279500|259204.49152542374|\n",
            "|139000|134533.68265682657|\n",
            "|129900|134533.68265682657|\n",
            "| 68500| 95391.46428571429|\n",
            "|309000|259204.49152542374|\n",
            "|319900|230279.61290322582|\n",
            "|239686|230279.61290322582|\n",
            "|249700|259204.49152542374|\n",
            "|127000|134533.68265682657|\n",
            "|114500|134533.68265682657|\n",
            "|180500|189008.48101265822|\n",
            "|202500|184589.74545454545|\n",
            "|225000|230279.61290322582|\n",
            "|127000|112080.31496062993|\n",
            "|205000|189008.48101265822|\n",
            "|383970|         386263.75|\n",
            "|139000|134533.68265682657|\n",
            "+------+------------------+\n",
            "only showing top 20 rows\n",
            "\n",
            "R-squared (R2) on test data: 0.712\n",
            "Mean Absolute Error (MAE) on test data: 28404.196\n",
            "Mean Squared Error (MSE) on test data: 1747699787.599\n"
          ]
        }
      ],
      "source": [
        "dt = DecisionTreeRegressor(featuresCol=\"features\", labelCol=\"label\")\n",
        "\n",
        "# Step 5: Create the pipeline\n",
        "pipeline = Pipeline(stages=indexers + encoders + [assembler, dt])\n",
        "\n",
        "# Step 6: Split the data into training and testing sets (80% training, 20% testing)\n",
        "train_data, test_data = df_final.randomSplit([0.8, 0.2], seed=42)\n",
        "\n",
        "# Step 7: Fit the pipeline to your training DataFrame\n",
        "model = pipeline.fit(train_data)\n",
        "\n",
        "# Step 8: Make predictions on the test data\n",
        "predictions = model.transform(test_data)\n",
        "\n",
        "# Display the predictions\n",
        "predictions.select(\"label\", \"prediction\").show()\n",
        "\n",
        "evaluator = RegressionEvaluator(labelCol=\"label\", predictionCol=\"prediction\", metricName=\"r2\")\n",
        "r2_dt = evaluator.evaluate(predictions)\n",
        "print(\"R-squared (R2) on test data: {:.3f}\".format(r2_dt))\n",
        "\n",
        "evaluator = RegressionEvaluator(labelCol=\"label\", predictionCol=\"prediction\", metricName=\"mae\")\n",
        "mae_dt = evaluator.evaluate(predictions)\n",
        "print(\"Mean Absolute Error (MAE) on test data: {:.3f}\".format(mae_dt))\n",
        "\n",
        "evaluator = RegressionEvaluator(labelCol=\"label\", predictionCol=\"prediction\", metricName=\"mse\")\n",
        "mse_dt = evaluator.evaluate(predictions)\n",
        "print(\"Mean Squared Error (MSE) on test data: {:.3f}\".format(mse_dt))"
      ]
    },
    {
      "cell_type": "markdown",
      "source": [
        "### **Random Forest Regressor**"
      ],
      "metadata": {
        "id": "b5u-tCwEdIlQ"
      }
    },
    {
      "cell_type": "code",
      "execution_count": null,
      "metadata": {
        "colab": {
          "base_uri": "https://localhost:8080/"
        },
        "id": "0kdiT2BY9Bz-",
        "outputId": "babba385-6eb6-4f45-8cd5-6d1c3eb3da79"
      },
      "outputs": [
        {
          "name": "stdout",
          "output_type": "stream",
          "text": [
            "+------+------------------+\n",
            "| label|        prediction|\n",
            "+------+------------------+\n",
            "|223500|209298.13371491866|\n",
            "|307000|  247831.286782653|\n",
            "|129900|161563.35907113558|\n",
            "|279500|261189.27733907322|\n",
            "|139000| 133847.8740661714|\n",
            "|129900|144787.29362738685|\n",
            "| 68500| 94723.74639378983|\n",
            "|309000| 319506.3183183296|\n",
            "|319900|251415.92095800414|\n",
            "|239686|240966.14393219515|\n",
            "|249700|261589.70483553354|\n",
            "|127000|128890.65160832915|\n",
            "|114500|135917.96002201608|\n",
            "|180500|169315.74289033754|\n",
            "|202500|  207033.818476745|\n",
            "|225000| 216467.9688425953|\n",
            "|127000|121883.75509757343|\n",
            "|205000|183186.32383235445|\n",
            "|383970|364988.84494622453|\n",
            "|139000|137391.41711368735|\n",
            "+------+------------------+\n",
            "only showing top 20 rows\n",
            "\n",
            "R-squared (R2) on test data: 0.816\n",
            "Mean Absolute Error (MAE) on test data: 21797.316\n",
            "Mean Squared Error (MSE) on test data: 1115019905.174\n"
          ]
        }
      ],
      "source": [
        "rf = RandomForestRegressor(featuresCol=\"features\", labelCol=\"label\")\n",
        "\n",
        "# Step 5: Create the pipeline\n",
        "pipeline = Pipeline(stages=indexers + encoders + [assembler, rf])\n",
        "\n",
        "# Step 6: Split the data into training and testing sets (80% training, 20% testing)\n",
        "train_data, test_data = df_final.randomSplit([0.8, 0.2], seed=42)\n",
        "\n",
        "# Step 7: Fit the pipeline to your training DataFrame\n",
        "model = pipeline.fit(train_data)\n",
        "\n",
        "# Step 8: Make predictions on the test data\n",
        "predictions = model.transform(test_data)\n",
        "\n",
        "# Display the predictions\n",
        "predictions.select(\"label\", \"prediction\").show()\n",
        "\n",
        "evaluator = RegressionEvaluator(labelCol=\"label\", predictionCol=\"prediction\", metricName=\"r2\")\n",
        "r2_rf = evaluator.evaluate(predictions)\n",
        "print(\"R-squared (R2) on test data: {:.3f}\".format(r2_rf))\n",
        "\n",
        "evaluator = RegressionEvaluator(labelCol=\"label\", predictionCol=\"prediction\", metricName=\"mae\")\n",
        "mae_rf = evaluator.evaluate(predictions)\n",
        "print(\"Mean Absolute Error (MAE) on test data: {:.3f}\".format(mae_rf))\n",
        "\n",
        "evaluator = RegressionEvaluator(labelCol=\"label\", predictionCol=\"prediction\", metricName=\"mse\")\n",
        "mse_rf = evaluator.evaluate(predictions)\n",
        "print(\"Mean Squared Error (MSE) on test data: {:.3f}\".format(mse_rf))"
      ]
    },
    {
      "cell_type": "markdown",
      "source": [
        "### **GBT Regressor**"
      ],
      "metadata": {
        "id": "Qr6S3ASwdPar"
      }
    },
    {
      "cell_type": "code",
      "execution_count": null,
      "metadata": {
        "colab": {
          "base_uri": "https://localhost:8080/"
        },
        "id": "8TrnXCr69Dtz",
        "outputId": "4c9b2ba1-43ed-4a4c-f27c-16a5856ef1c5"
      },
      "outputs": [
        {
          "name": "stdout",
          "output_type": "stream",
          "text": [
            "+------+------------------+\n",
            "| label|        prediction|\n",
            "+------+------------------+\n",
            "|223500|213887.52737999443|\n",
            "|307000|283079.21743674704|\n",
            "|129900|176731.76764702765|\n",
            "|279500|244247.99809336528|\n",
            "|139000|128793.28674214259|\n",
            "|129900|119800.20431777058|\n",
            "| 68500| 84074.91422691618|\n",
            "|309000|241224.87282667472|\n",
            "|319900|245232.27713023953|\n",
            "|239686|241474.35781267268|\n",
            "|249700|258436.53232139404|\n",
            "|127000| 134977.3751494976|\n",
            "|114500|126309.78860748098|\n",
            "|180500|182661.94718232905|\n",
            "|202500|179706.16138912563|\n",
            "|225000|234735.91274524224|\n",
            "|127000|105553.89296536303|\n",
            "|205000|186908.24757062792|\n",
            "|383970|393880.75447477284|\n",
            "|139000|127697.67775720375|\n",
            "+------+------------------+\n",
            "only showing top 20 rows\n",
            "\n",
            "R-squared (R2) on test data: 0.759\n",
            "Mean Absolute Error (MAE) on test data: 25219.257\n",
            "Mean Squared Error (MSE) on test data: 1459153313.928\n"
          ]
        }
      ],
      "source": [
        "gbt = GBTRegressor(featuresCol=\"features\", labelCol=\"label\", maxIter=10)  # You can adjust maxIter as needed\n",
        "\n",
        "# Step 5: Create the pipeline\n",
        "pipeline = Pipeline(stages=indexers + encoders + [assembler, gbt])\n",
        "\n",
        "# Step 6: Split the data into training and testing sets (80% training, 20% testing)\n",
        "train_data, test_data = df_final.randomSplit([0.8, 0.2], seed=42)\n",
        "\n",
        "# Step 7: Fit the pipeline to your training DataFrame\n",
        "model = pipeline.fit(train_data)\n",
        "\n",
        "# Step 8: Make predictions on the test data\n",
        "predictions = model.transform(test_data)\n",
        "\n",
        "# Display the predictions\n",
        "predictions.select(\"label\", \"prediction\").show()\n",
        "\n",
        "evaluator = RegressionEvaluator(labelCol=\"label\", predictionCol=\"prediction\", metricName=\"r2\")\n",
        "r2_gbt = evaluator.evaluate(predictions)\n",
        "print(\"R-squared (R2) on test data: {:.3f}\".format(r2_gbt))\n",
        "\n",
        "evaluator = RegressionEvaluator(labelCol=\"label\", predictionCol=\"prediction\", metricName=\"mae\")\n",
        "mae_gbt = evaluator.evaluate(predictions)\n",
        "print(\"Mean Absolute Error (MAE) on test data: {:.3f}\".format(mae_gbt))\n",
        "\n",
        "evaluator = RegressionEvaluator(labelCol=\"label\", predictionCol=\"prediction\", metricName=\"mse\")\n",
        "mse_gbt = evaluator.evaluate(predictions)\n",
        "print(\"Mean Squared Error (MSE) on test data: {:.3f}\".format(mse_gbt))"
      ]
    },
    {
      "cell_type": "markdown",
      "source": [
        "## **Applying Algorithm with Hyper Parameter Tuning and Cross validation**"
      ],
      "metadata": {
        "id": "TL7p-lAXco0-"
      }
    },
    {
      "cell_type": "markdown",
      "source": [
        "###  Decision Tree Regressor"
      ],
      "metadata": {
        "id": "SlVzChJddc7-"
      }
    },
    {
      "cell_type": "code",
      "execution_count": null,
      "metadata": {
        "colab": {
          "base_uri": "https://localhost:8080/"
        },
        "id": "GsXKEB3C9PM0",
        "outputId": "9b14b4aa-7364-4d64-a42c-fce79bffa2d9"
      },
      "outputs": [
        {
          "name": "stdout",
          "output_type": "stream",
          "text": [
            "Result Using Hyperparameter and Cross-validation\n",
            "Decision Tree - R-squared (R2): 0.711\n"
          ]
        }
      ],
      "source": [
        "dt = DecisionTreeRegressor(featuresCol=\"features\", labelCol=\"label\")\n",
        "\n",
        "# Step 5: Create ParamGrid for hyperparameter tuning\n",
        "paramGrid = ParamGridBuilder() \\\n",
        "    .addGrid(dt.maxDepth, [5, 10, 15]) \\\n",
        "    .addGrid(dt.maxBins, [32, 64, 128]) \\\n",
        "    .build()\n",
        "\n",
        "# Step 6: Create CrossValidator with Decision Tree Regressor and ParamGrid\n",
        "crossval = CrossValidator(estimator=dt,\n",
        "                          estimatorParamMaps=paramGrid,\n",
        "                          evaluator=RegressionEvaluator(labelCol=\"label\", predictionCol=\"prediction\", metricName=\"r2\"),\n",
        "                          numFolds=5)  # You can adjust the number of folds as needed\n",
        "\n",
        "# Step 7: Create the pipeline with Decision Tree Regressor and CrossValidator\n",
        "pipeline_dt_cv = Pipeline(stages=indexers + encoders + [assembler, crossval])\n",
        "\n",
        "# Step 8: Split the data into training and testing sets (80% training, 20% testing)\n",
        "train_data, test_data = df_final.randomSplit([0.8, 0.2], seed=42)\n",
        "\n",
        "# Step 9: Fit the pipeline to your training DataFrame\n",
        "model_dt_cv = pipeline_dt_cv.fit(train_data)\n",
        "\n",
        "# Step 10: Make predictions on the test data\n",
        "predictions_dt_cv = model_dt_cv.transform(test_data)\n",
        "\n",
        "# Step 11: Evaluate the model\n",
        "evaluator_dt = RegressionEvaluator(labelCol=\"label\", predictionCol=\"prediction\", metricName=\"r2\")\n",
        "r2_dt_cv = evaluator_dt.evaluate(predictions_dt_cv)\n",
        "print(\"Result Using Hyperparameter and Cross-validation\")\n",
        "print(\"Decision Tree - R-squared (R2): {:.3f}\".format(r2_dt_cv))"
      ]
    },
    {
      "cell_type": "markdown",
      "source": [
        "### Random Forest Regressor"
      ],
      "metadata": {
        "id": "b24b0DALdmO_"
      }
    },
    {
      "cell_type": "code",
      "execution_count": null,
      "metadata": {
        "colab": {
          "background_save": true
        },
        "id": "embhfLXy7aGU",
        "outputId": "f98155d5-ae54-46e3-eb8a-e44635f3033f"
      },
      "outputs": [
        {
          "name": "stdout",
          "output_type": "stream",
          "text": [
            "Result Using Hyperparameter and Cross-validation\n",
            "Random Forest - R-squared (R2): 0.884\n"
          ]
        }
      ],
      "source": [
        "rf = RandomForestRegressor(featuresCol=\"features\", labelCol=\"label\")\n",
        "\n",
        "# Step 5: Create ParamGrid for hyperparameter tuning\n",
        "paramGrid = ParamGridBuilder() \\\n",
        "    .addGrid(rf.numTrees, [10, 20, 30]) \\\n",
        "    .addGrid(rf.maxDepth, [5, 10, 15]) \\\n",
        "    .addGrid(rf.maxBins, [32, 64, 128]) \\\n",
        "    .build()\n",
        "\n",
        "# Step 6: Create CrossValidator with Random Forest Regressor and ParamGrid\n",
        "crossval = CrossValidator(estimator=rf,\n",
        "                          estimatorParamMaps=paramGrid,\n",
        "                          evaluator=RegressionEvaluator(labelCol=\"label\", predictionCol=\"prediction\", metricName=\"r2\"),\n",
        "                          numFolds=5)  # You can adjust the number of folds as needed\n",
        "\n",
        "# Step 7: Create the pipeline with Random Forest Regressor and CrossValidator\n",
        "pipeline_rf_cv = Pipeline(stages=indexers + encoders + [assembler, crossval])\n",
        "\n",
        "# Step 8: Split the data into training and testing sets (80% training, 20% testing)\n",
        "train_data, test_data = df_final.randomSplit([0.8, 0.2], seed=42)\n",
        "\n",
        "# Step 9: Fit the pipeline to your training DataFrame\n",
        "model_rf_cv = pipeline_rf_cv.fit(train_data)\n",
        "\n",
        "# Step 10: Make predictions on the test data\n",
        "predictions_rf_cv = model_rf_cv.transform(test_data)\n",
        "\n",
        "# Step 11: Evaluate the model\n",
        "evaluator_rf = RegressionEvaluator(labelCol=\"label\", predictionCol=\"prediction\", metricName=\"r2\")\n",
        "r2_rf_cv = evaluator_rf.evaluate(predictions_rf_cv)\n",
        "print(\"Result Using Hyperparameter and Cross-validation\")\n",
        "print(\"Random Forest - R-squared (R2): {:.3f}\".format(r2_rf_cv))"
      ]
    },
    {
      "cell_type": "markdown",
      "source": [
        "### GBT Regressor"
      ],
      "metadata": {
        "id": "HMeqqL6udsJv"
      }
    },
    {
      "cell_type": "code",
      "execution_count": null,
      "metadata": {
        "id": "hCsTT0aT8PuK",
        "colab": {
          "base_uri": "https://localhost:8080/"
        },
        "outputId": "b3a5183a-af03-4e12-fd2b-1de2101fdc9f"
      },
      "outputs": [
        {
          "output_type": "stream",
          "name": "stdout",
          "text": [
            "Result Using Hyperparameter and Cross-validation\n",
            "Gradient-Boosted Tree - R-squared (R2): 0.743\n"
          ]
        }
      ],
      "source": [
        "gbt = GBTRegressor(featuresCol=\"features\", labelCol=\"label\")\n",
        "\n",
        "# Step 5: Create ParamGrid for hyperparameter tuning\n",
        "paramGrid = ParamGridBuilder() \\\n",
        "    .addGrid(gbt.maxDepth, [5, 10]) \\\n",
        "    .addGrid(gbt.maxBins, [15,20]) \\\n",
        "    .addGrid(gbt.stepSize, [0.1]) \\\n",
        "    .build()\n",
        "\n",
        "# Step 6: Create CrossValidator with Gradient-Boosted Tree Regressor and ParamGrid\n",
        "crossval = CrossValidator(estimator=gbt,\n",
        "                          estimatorParamMaps=paramGrid,\n",
        "                          evaluator=RegressionEvaluator(labelCol=\"label\", predictionCol=\"prediction\", metricName=\"r2\"),\n",
        "                          numFolds=5)  # You can adjust the number of folds as needed\n",
        "\n",
        "# Step 7: Create the pipeline with Gradient-Boosted Tree Regressor and CrossValidator\n",
        "pipeline_gbt_cv = Pipeline(stages=indexers + encoders + [assembler, crossval])\n",
        "\n",
        "# Step 8: Split the data into training and testing sets (80% training, 20% testing)\n",
        "train_data, test_data = df_final.randomSplit([0.8, 0.2], seed=42)\n",
        "\n",
        "# Step 9: Fit the pipeline to your training DataFrame\n",
        "model_gbt_cv = pipeline_gbt_cv.fit(train_data)\n",
        "\n",
        "# Step 10: Make predictions on the test data\n",
        "predictions_gbt_cv = model_gbt_cv.transform(test_data)\n",
        "\n",
        "# Step 11: Evaluate the model\n",
        "evaluator_gbt = RegressionEvaluator(labelCol=\"label\", predictionCol=\"prediction\", metricName=\"r2\")\n",
        "r2_gbt_cv = evaluator_gbt.evaluate(predictions_gbt_cv)\n",
        "print(\"Result Using Hyperparameter and Cross-validation\")\n",
        "print(\"Gradient-Boosted Tree - R-squared (R2): {:.3f}\".format(r2_gbt_cv))"
      ]
    }
  ],
  "metadata": {
    "colab": {
      "provenance": []
    },
    "kernelspec": {
      "display_name": "Python 3",
      "name": "python3"
    },
    "language_info": {
      "name": "python"
    }
  },
  "nbformat": 4,
  "nbformat_minor": 0
}